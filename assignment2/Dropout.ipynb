{
 "metadata": {
  "kernelspec": {
   "display_name": "Python 2",
   "language": "python",
   "name": "python2"
  },
  "language_info": {
   "codemirror_mode": {
    "name": "ipython",
    "version": 2
   },
   "file_extension": ".py",
   "mimetype": "text/x-python",
   "name": "python",
   "nbconvert_exporter": "python",
   "pygments_lexer": "ipython2",
   "version": "2.7.6"
  },
  "name": "",
  "signature": "sha256:e5d3cb8a8fcd54237092be0ac7b0597b595befee722ef3e68d6cdd7dc99b569e"
 },
 "nbformat": 3,
 "nbformat_minor": 0,
 "worksheets": [
  {
   "cells": [
    {
     "cell_type": "markdown",
     "metadata": {},
     "source": [
      "# Dropout\n",
      "Dropout [1] is a technique for regularizing neural networks by randomly setting some features to zero during the forward pass. In this exercise you will implement a dropout layer and modify your fully-connected network to optionally use dropout.\n",
      "\n",
      "[1] Geoffrey E. Hinton et al, \"Improving neural networks by preventing co-adaptation of feature detectors\", arXiv 2012"
     ]
    },
    {
     "cell_type": "code",
     "collapsed": false,
     "input": [
      "# As usual, a bit of setup\n",
      "\n",
      "import time\n",
      "import numpy as np\n",
      "import matplotlib.pyplot as plt\n",
      "from cs231n.classifiers.fc_net import *\n",
      "from cs231n.data_utils import get_CIFAR10_data\n",
      "from cs231n.gradient_check import eval_numerical_gradient, eval_numerical_gradient_array\n",
      "from cs231n.solver import Solver\n",
      "\n",
      "%matplotlib inline\n",
      "plt.rcParams['figure.figsize'] = (10.0, 8.0) # set default size of plots\n",
      "plt.rcParams['image.interpolation'] = 'nearest'\n",
      "plt.rcParams['image.cmap'] = 'gray'\n",
      "\n",
      "# for auto-reloading external modules\n",
      "# see http://stackoverflow.com/questions/1907993/autoreload-of-modules-in-ipython\n",
      "%load_ext autoreload\n",
      "%autoreload 2\n",
      "\n",
      "def rel_error(x, y):\n",
      "  \"\"\" returns relative error \"\"\"\n",
      "  return np.max(np.abs(x - y) / (np.maximum(1e-8, np.abs(x) + np.abs(y))))"
     ],
     "language": "python",
     "metadata": {},
     "outputs": [],
     "prompt_number": 1
    },
    {
     "cell_type": "code",
     "collapsed": false,
     "input": [
      "# Load the (preprocessed) CIFAR10 data.\n",
      "\n",
      "data = get_CIFAR10_data()\n",
      "for k, v in data.iteritems():\n",
      "  print '%s: ' % k, v.shape"
     ],
     "language": "python",
     "metadata": {},
     "outputs": [
      {
       "output_type": "stream",
       "stream": "stdout",
       "text": [
        "X_val:  (1000, 3, 32, 32)\n",
        "X_train:  (49000, 3, 32, 32)\n",
        "X_test:  (1000, 3, 32, 32)\n",
        "y_val:  (1000,)\n",
        "y_train:  (49000,)\n",
        "y_test:  (1000,)\n"
       ]
      }
     ],
     "prompt_number": 2
    },
    {
     "cell_type": "markdown",
     "metadata": {},
     "source": [
      "# Dropout forward pass\n",
      "In the file `cs231n/layers.py`, implement the forward pass for dropout. Since dropout behaves differently during training and testing, make sure to implement the operation for both modes.\n",
      "\n",
      "Once you have done so, run the cell below to test your implementation."
     ]
    },
    {
     "cell_type": "code",
     "collapsed": false,
     "input": [
      "x = np.random.randn(500, 500) + 10\n",
      "\n",
      "for p in [0.3, 0.6, 0.75]:\n",
      "  out, _ = dropout_forward(x, {'mode': 'train', 'p': p})\n",
      "  out_test, _ = dropout_forward(x, {'mode': 'test', 'p': p})\n",
      "\n",
      "  print 'Running tests with p = ', p\n",
      "  print 'Mean of input: ', x.mean()\n",
      "  print 'Mean of train-time output: ', out.mean()\n",
      "  print 'Mean of test-time output: ', out_test.mean()\n",
      "  print 'Fraction of train-time output set to zero: ', (out == 0).mean()\n",
      "  print 'Fraction of test-time output set to zero: ', (out_test == 0).mean()\n",
      "  print"
     ],
     "language": "python",
     "metadata": {},
     "outputs": [
      {
       "output_type": "stream",
       "stream": "stdout",
       "text": [
        "Running tests with p =  0.3\n",
        "Mean of input:  9.99960320544\n",
        "Mean of train-time output:  9.98721277646\n",
        "Mean of test-time output:  9.99960320544\n",
        "Fraction of train-time output set to zero:  0.300948\n",
        "Fraction of test-time output set to zero:  0.0\n",
        "\n",
        "Running tests with p =  0.6\n",
        "Mean of input:  9.99960320544\n",
        "Mean of train-time output:  10.0005562324\n",
        "Mean of test-time output:  9.99960320544\n",
        "Fraction of train-time output set to zero:  0.60002\n",
        "Fraction of test-time output set to zero:  0.0\n",
        "\n",
        "Running tests with p =  0.75\n",
        "Mean of input:  9.99960320544\n",
        "Mean of train-time output:  9.95968663517\n",
        "Mean of test-time output:  9.99960320544\n",
        "Fraction of train-time output set to zero:  0.7511\n",
        "Fraction of test-time output set to zero:  0.0\n",
        "\n"
       ]
      }
     ],
     "prompt_number": 4
    },
    {
     "cell_type": "markdown",
     "metadata": {},
     "source": [
      "# Dropout backward pass\n",
      "In the file `cs231n/layers.py`, implement the backward pass for dropout. After doing so, run the following cell to numerically gradient-check your implementation."
     ]
    },
    {
     "cell_type": "code",
     "collapsed": false,
     "input": [
      "x = np.random.randn(10, 10) + 10\n",
      "dout = np.random.randn(*x.shape)\n",
      "\n",
      "dropout_param = {'mode': 'train', 'p': 0.8, 'seed': 123}\n",
      "out, cache = dropout_forward(x, dropout_param)\n",
      "dx = dropout_backward(dout, cache)\n",
      "dx_num = eval_numerical_gradient_array(lambda xx: dropout_forward(xx, dropout_param)[0], x, dout)\n",
      "\n",
      "print 'dx relative error: ', rel_error(dx, dx_num)"
     ],
     "language": "python",
     "metadata": {},
     "outputs": [
      {
       "output_type": "stream",
       "stream": "stdout",
       "text": [
        "dx relative error:  1.89290583126e-11\n"
       ]
      }
     ],
     "prompt_number": 5
    },
    {
     "cell_type": "markdown",
     "metadata": {},
     "source": [
      "# Fully-connected nets with Dropout\n",
      "In the file `cs231n/classifiers/fc_net.py`, modify your implementation to use dropout. Specificially, if the constructor the the net receives a nonzero value for the `dropout` parameter, then the net should add dropout immediately after every ReLU nonlinearity. After doing so, run the following to numerically gradient-check your implementation."
     ]
    },
    {
     "cell_type": "code",
     "collapsed": false,
     "input": [
      "N, D, H1, H2, C = 2, 15, 20, 30, 10\n",
      "X = np.random.randn(N, D)\n",
      "y = np.random.randint(C, size=(N,))\n",
      "\n",
      "for dropout in [0, 0.25, 0.5]:\n",
      "  print 'Running check with dropout = ', dropout\n",
      "  model = FullyConnectedNet([H1, H2], input_dim=D, num_classes=C,\n",
      "                            weight_scale=5e-2, dtype=np.float64,\n",
      "                            dropout=dropout, seed=123)\n",
      "\n",
      "  loss, grads = model.loss(X, y)\n",
      "  print 'Initial loss: ', loss\n",
      "\n",
      "  for name in sorted(grads):\n",
      "    f = lambda _: model.loss(X, y)[0]\n",
      "    grad_num = eval_numerical_gradient(f, model.params[name], verbose=False, h=1e-5)\n",
      "    print '%s relative error: %.2e' % (name, rel_error(grad_num, grads[name]))\n",
      "  print"
     ],
     "language": "python",
     "metadata": {},
     "outputs": [
      {
       "output_type": "stream",
       "stream": "stdout",
       "text": [
        "Running check with dropout =  0\n",
        "Initial loss: "
       ]
      },
      {
       "output_type": "stream",
       "stream": "stdout",
       "text": [
        " 2.3051948274\n",
        "W1 relative error: 2.53e-07"
       ]
      },
      {
       "output_type": "stream",
       "stream": "stdout",
       "text": [
        "\n",
        "W2 relative error: 1.50e-05"
       ]
      },
      {
       "output_type": "stream",
       "stream": "stdout",
       "text": [
        "\n",
        "W3 relative error: 2.75e-07"
       ]
      },
      {
       "output_type": "stream",
       "stream": "stdout",
       "text": [
        "\n",
        "b1 relative error: 2.94e-06\n",
        "b2 relative error: 5.05e-08\n",
        "b3 relative error: 1.17e-10\n",
        "\n",
        "Running check with dropout =  0.25\n",
        "Initial loss:  2.30520775465\n",
        "W1 relative error: 2.61e-07"
       ]
      },
      {
       "output_type": "stream",
       "stream": "stdout",
       "text": [
        "\n",
        "W2 relative error: 5.02e-07"
       ]
      },
      {
       "output_type": "stream",
       "stream": "stdout",
       "text": [
        "\n",
        "W3 relative error: 4.46e-08"
       ]
      },
      {
       "output_type": "stream",
       "stream": "stdout",
       "text": [
        "\n",
        "b1 relative error: 7.40e-08\n",
        "b2 relative error: 7.15e-10\n",
        "b3 relative error: 1.00e-10\n",
        "\n",
        "Running check with dropout =  0.5\n",
        "Initial loss: "
       ]
      },
      {
       "output_type": "stream",
       "stream": "stdout",
       "text": [
        " 2.30356675866\n",
        "W1 relative error: 1.14e-06"
       ]
      },
      {
       "output_type": "stream",
       "stream": "stdout",
       "text": [
        "\n",
        "W2 relative error: 1.85e-07"
       ]
      },
      {
       "output_type": "stream",
       "stream": "stdout",
       "text": [
        "\n",
        "W3 relative error: 6.60e-09"
       ]
      },
      {
       "output_type": "stream",
       "stream": "stdout",
       "text": [
        "\n",
        "b1 relative error: 7.72e-08\n",
        "b2 relative error: 1.20e-09\n",
        "b3 relative error: 1.46e-10\n",
        "\n"
       ]
      }
     ],
     "prompt_number": 6
    },
    {
     "cell_type": "markdown",
     "metadata": {},
     "source": [
      "# Regularization experiment\n",
      "As an experiment, we will train a pair of two-layer networks on 500 training examples: one will use no dropout, and one will use a dropout probability of 0.75. We will then visualize the training and validation accuracies of the two networks over time."
     ]
    },
    {
     "cell_type": "code",
     "collapsed": false,
     "input": [
      "# Train two identical nets, one with dropout and one without\n",
      "\n",
      "num_train = 500\n",
      "small_data = {\n",
      "  'X_train': data['X_train'][:num_train],\n",
      "  'y_train': data['y_train'][:num_train],\n",
      "  'X_val': data['X_val'],\n",
      "  'y_val': data['y_val'],\n",
      "}\n",
      "\n",
      "solvers = {}\n",
      "dropout_choices = [0, 0.25, 0.5, 0.75, 0.8, 0.9, 0.99]\n",
      "#dropout_choices = [0, 0.75]\n",
      "for dropout in dropout_choices:\n",
      "  model = FullyConnectedNet([500], dropout=dropout)\n",
      "  print dropout\n",
      "\n",
      "  solver = Solver(model, small_data,\n",
      "                  num_epochs=25, batch_size=100,\n",
      "                  update_rule='adam',\n",
      "                  optim_config={\n",
      "                    'learning_rate': 5e-4,\n",
      "                  },\n",
      "                  verbose=True, print_every=100)\n",
      "  solver.train()\n",
      "  solvers[dropout] = solver"
     ],
     "language": "python",
     "metadata": {
      "scrolled": false
     },
     "outputs": [
      {
       "output_type": "stream",
       "stream": "stdout",
       "text": [
        "0\n",
        "(Iteration 1 / 125) loss: 7.799736"
       ]
      },
      {
       "output_type": "stream",
       "stream": "stdout",
       "text": [
        "\n",
        "(Epoch 0 / 25) train acc: 0.248000; val_acc: 0.216000"
       ]
      },
      {
       "output_type": "stream",
       "stream": "stdout",
       "text": [
        "\n",
        "(Epoch 1 / 25) train acc: 0.390000; val_acc: 0.230000"
       ]
      },
      {
       "output_type": "stream",
       "stream": "stdout",
       "text": [
        "\n",
        "(Epoch 2 / 25) train acc: 0.498000; val_acc: 0.282000"
       ]
      },
      {
       "output_type": "stream",
       "stream": "stdout",
       "text": [
        "\n",
        "(Epoch 3 / 25) train acc: 0.622000; val_acc: 0.250000"
       ]
      },
      {
       "output_type": "stream",
       "stream": "stdout",
       "text": [
        "\n",
        "(Epoch 4 / 25) train acc: 0.702000; val_acc: 0.292000"
       ]
      },
      {
       "output_type": "stream",
       "stream": "stdout",
       "text": [
        "\n",
        "(Epoch 5 / 25) train acc: 0.754000; val_acc: 0.255000"
       ]
      },
      {
       "output_type": "stream",
       "stream": "stdout",
       "text": [
        "\n",
        "(Epoch 6 / 25) train acc: 0.804000; val_acc: 0.273000"
       ]
      },
      {
       "output_type": "stream",
       "stream": "stdout",
       "text": [
        "\n",
        "(Epoch 7 / 25) train acc: 0.838000; val_acc: 0.272000"
       ]
      },
      {
       "output_type": "stream",
       "stream": "stdout",
       "text": [
        "\n",
        "(Epoch 8 / 25) train acc: 0.856000; val_acc: 0.277000"
       ]
      },
      {
       "output_type": "stream",
       "stream": "stdout",
       "text": [
        "\n",
        "(Epoch 9 / 25) train acc: 0.890000; val_acc: 0.288000"
       ]
      },
      {
       "output_type": "stream",
       "stream": "stdout",
       "text": [
        "\n",
        "(Epoch 10 / 25) train acc: 0.898000; val_acc: 0.279000"
       ]
      },
      {
       "output_type": "stream",
       "stream": "stdout",
       "text": [
        "\n",
        "(Epoch 11 / 25) train acc: 0.938000; val_acc: 0.294000"
       ]
      },
      {
       "output_type": "stream",
       "stream": "stdout",
       "text": [
        "\n",
        "(Epoch 12 / 25) train acc: 0.934000; val_acc: 0.301000"
       ]
      },
      {
       "output_type": "stream",
       "stream": "stdout",
       "text": [
        "\n",
        "(Epoch 13 / 25) train acc: 0.938000; val_acc: 0.318000"
       ]
      },
      {
       "output_type": "stream",
       "stream": "stdout",
       "text": [
        "\n",
        "(Epoch 14 / 25) train acc: 0.942000; val_acc: 0.287000"
       ]
      },
      {
       "output_type": "stream",
       "stream": "stdout",
       "text": [
        "\n",
        "(Epoch 15 / 25) train acc: 0.958000; val_acc: 0.266000"
       ]
      },
      {
       "output_type": "stream",
       "stream": "stdout",
       "text": [
        "\n",
        "(Epoch 16 / 25) train acc: 0.972000; val_acc: 0.288000"
       ]
      },
      {
       "output_type": "stream",
       "stream": "stdout",
       "text": [
        "\n",
        "(Epoch 17 / 25) train acc: 0.978000; val_acc: 0.285000"
       ]
      },
      {
       "output_type": "stream",
       "stream": "stdout",
       "text": [
        "\n",
        "(Epoch 18 / 25) train acc: 0.974000; val_acc: 0.280000"
       ]
      },
      {
       "output_type": "stream",
       "stream": "stdout",
       "text": [
        "\n",
        "(Epoch 19 / 25) train acc: 0.988000; val_acc: 0.272000"
       ]
      },
      {
       "output_type": "stream",
       "stream": "stdout",
       "text": [
        "\n",
        "(Epoch 20 / 25) train acc: 0.980000; val_acc: 0.280000"
       ]
      },
      {
       "output_type": "stream",
       "stream": "stdout",
       "text": [
        "\n",
        "(Iteration 101 / 125) loss: 0.055913"
       ]
      },
      {
       "output_type": "stream",
       "stream": "stdout",
       "text": [
        "\n",
        "(Epoch 21 / 25) train acc: 0.990000; val_acc: 0.291000"
       ]
      },
      {
       "output_type": "stream",
       "stream": "stdout",
       "text": [
        "\n",
        "(Epoch 22 / 25) train acc: 0.986000; val_acc: 0.295000"
       ]
      },
      {
       "output_type": "stream",
       "stream": "stdout",
       "text": [
        "\n",
        "(Epoch 23 / 25) train acc: 0.984000; val_acc: 0.298000"
       ]
      },
      {
       "output_type": "stream",
       "stream": "stdout",
       "text": [
        "\n",
        "(Epoch 24 / 25) train acc: 0.992000; val_acc: 0.293000"
       ]
      },
      {
       "output_type": "stream",
       "stream": "stdout",
       "text": [
        "\n",
        "(Epoch 25 / 25) train acc: 0.990000; val_acc: 0.285000"
       ]
      },
      {
       "output_type": "stream",
       "stream": "stdout",
       "text": [
        "\n",
        "0.25"
       ]
      },
      {
       "output_type": "stream",
       "stream": "stdout",
       "text": [
        "\n",
        "(Iteration 1 / 125) loss: 9.419920"
       ]
      },
      {
       "output_type": "stream",
       "stream": "stdout",
       "text": [
        "\n",
        "(Epoch 0 / 25) train acc: 0.222000; val_acc: 0.172000"
       ]
      },
      {
       "output_type": "stream",
       "stream": "stdout",
       "text": [
        "\n",
        "(Epoch 1 / 25) train acc: 0.366000; val_acc: 0.221000"
       ]
      },
      {
       "output_type": "stream",
       "stream": "stdout",
       "text": [
        "\n",
        "(Epoch 2 / 25) train acc: 0.526000; val_acc: 0.259000"
       ]
      },
      {
       "output_type": "stream",
       "stream": "stdout",
       "text": [
        "\n",
        "(Epoch 3 / 25) train acc: 0.584000; val_acc: 0.269000"
       ]
      },
      {
       "output_type": "stream",
       "stream": "stdout",
       "text": [
        "\n",
        "(Epoch 4 / 25) train acc: 0.700000; val_acc: 0.289000"
       ]
      },
      {
       "output_type": "stream",
       "stream": "stdout",
       "text": [
        "\n",
        "(Epoch 5 / 25) train acc: 0.742000; val_acc: 0.260000"
       ]
      },
      {
       "output_type": "stream",
       "stream": "stdout",
       "text": [
        "\n",
        "(Epoch 6 / 25) train acc: 0.780000; val_acc: 0.278000"
       ]
      },
      {
       "output_type": "stream",
       "stream": "stdout",
       "text": [
        "\n",
        "(Epoch 7 / 25) train acc: 0.816000; val_acc: 0.272000"
       ]
      },
      {
       "output_type": "stream",
       "stream": "stdout",
       "text": [
        "\n",
        "(Epoch 8 / 25) train acc: 0.864000; val_acc: 0.278000"
       ]
      },
      {
       "output_type": "stream",
       "stream": "stdout",
       "text": [
        "\n",
        "(Epoch 9 / 25) train acc: 0.906000; val_acc: 0.283000"
       ]
      },
      {
       "output_type": "stream",
       "stream": "stdout",
       "text": [
        "\n",
        "(Epoch 10 / 25) train acc: 0.900000; val_acc: 0.289000"
       ]
      },
      {
       "output_type": "stream",
       "stream": "stdout",
       "text": [
        "\n",
        "(Epoch 11 / 25) train acc: 0.880000; val_acc: 0.281000"
       ]
      },
      {
       "output_type": "stream",
       "stream": "stdout",
       "text": [
        "\n",
        "(Epoch 12 / 25) train acc: 0.942000; val_acc: 0.292000"
       ]
      },
      {
       "output_type": "stream",
       "stream": "stdout",
       "text": [
        "\n",
        "(Epoch 13 / 25) train acc: 0.962000; val_acc: 0.285000"
       ]
      },
      {
       "output_type": "stream",
       "stream": "stdout",
       "text": [
        "\n",
        "(Epoch 14 / 25) train acc: 0.942000; val_acc: 0.274000"
       ]
      },
      {
       "output_type": "stream",
       "stream": "stdout",
       "text": [
        "\n",
        "(Epoch 15 / 25) train acc: 0.944000; val_acc: 0.272000"
       ]
      },
      {
       "output_type": "stream",
       "stream": "stdout",
       "text": [
        "\n",
        "(Epoch 16 / 25) train acc: 0.940000; val_acc: 0.269000"
       ]
      },
      {
       "output_type": "stream",
       "stream": "stdout",
       "text": [
        "\n",
        "(Epoch 17 / 25) train acc: 0.954000; val_acc: 0.295000"
       ]
      },
      {
       "output_type": "stream",
       "stream": "stdout",
       "text": [
        "\n",
        "(Epoch 18 / 25) train acc: 0.978000; val_acc: 0.303000"
       ]
      },
      {
       "output_type": "stream",
       "stream": "stdout",
       "text": [
        "\n",
        "(Epoch 19 / 25) train acc: 0.972000; val_acc: 0.287000"
       ]
      },
      {
       "output_type": "stream",
       "stream": "stdout",
       "text": [
        "\n",
        "(Epoch 20 / 25) train acc: 0.988000; val_acc: 0.302000"
       ]
      },
      {
       "output_type": "stream",
       "stream": "stdout",
       "text": [
        "\n",
        "(Iteration 101 / 125) loss: 0.277017"
       ]
      },
      {
       "output_type": "stream",
       "stream": "stdout",
       "text": [
        "\n",
        "(Epoch 21 / 25) train acc: 0.994000; val_acc: 0.302000"
       ]
      },
      {
       "output_type": "stream",
       "stream": "stdout",
       "text": [
        "\n",
        "(Epoch 22 / 25) train acc: 0.988000; val_acc: 0.307000"
       ]
      },
      {
       "output_type": "stream",
       "stream": "stdout",
       "text": [
        "\n",
        "(Epoch 23 / 25) train acc: 0.980000; val_acc: 0.310000"
       ]
      },
      {
       "output_type": "stream",
       "stream": "stdout",
       "text": [
        "\n",
        "(Epoch 24 / 25) train acc: 0.984000; val_acc: 0.303000"
       ]
      },
      {
       "output_type": "stream",
       "stream": "stdout",
       "text": [
        "\n",
        "(Epoch 25 / 25) train acc: 0.998000; val_acc: 0.304000"
       ]
      },
      {
       "output_type": "stream",
       "stream": "stdout",
       "text": [
        "\n",
        "0.5"
       ]
      },
      {
       "output_type": "stream",
       "stream": "stdout",
       "text": [
        "\n",
        "(Iteration 1 / 125) loss: 10.751161"
       ]
      },
      {
       "output_type": "stream",
       "stream": "stdout",
       "text": [
        "\n",
        "(Epoch 0 / 25) train acc: 0.182000; val_acc: 0.132000"
       ]
      },
      {
       "output_type": "stream",
       "stream": "stdout",
       "text": [
        "\n",
        "(Epoch 1 / 25) train acc: 0.334000; val_acc: 0.233000"
       ]
      },
      {
       "output_type": "stream",
       "stream": "stdout",
       "text": [
        "\n",
        "(Epoch 2 / 25) train acc: 0.404000; val_acc: 0.229000"
       ]
      },
      {
       "output_type": "stream",
       "stream": "stdout",
       "text": [
        "\n",
        "(Epoch 3 / 25) train acc: 0.492000; val_acc: 0.263000"
       ]
      },
      {
       "output_type": "stream",
       "stream": "stdout",
       "text": [
        "\n",
        "(Epoch 4 / 25) train acc: 0.594000; val_acc: 0.270000"
       ]
      },
      {
       "output_type": "stream",
       "stream": "stdout",
       "text": [
        "\n",
        "(Epoch 5 / 25) train acc: 0.642000; val_acc: 0.246000"
       ]
      },
      {
       "output_type": "stream",
       "stream": "stdout",
       "text": [
        "\n",
        "(Epoch 6 / 25) train acc: 0.722000; val_acc: 0.273000"
       ]
      },
      {
       "output_type": "stream",
       "stream": "stdout",
       "text": [
        "\n",
        "(Epoch 7 / 25) train acc: 0.774000; val_acc: 0.268000"
       ]
      },
      {
       "output_type": "stream",
       "stream": "stdout",
       "text": [
        "\n",
        "(Epoch 8 / 25) train acc: 0.784000; val_acc: 0.270000"
       ]
      },
      {
       "output_type": "stream",
       "stream": "stdout",
       "text": [
        "\n",
        "(Epoch 9 / 25) train acc: 0.820000; val_acc: 0.310000"
       ]
      },
      {
       "output_type": "stream",
       "stream": "stdout",
       "text": [
        "\n",
        "(Epoch 10 / 25) train acc: 0.844000; val_acc: 0.293000"
       ]
      },
      {
       "output_type": "stream",
       "stream": "stdout",
       "text": [
        "\n",
        "(Epoch 11 / 25) train acc: 0.876000; val_acc: 0.293000"
       ]
      },
      {
       "output_type": "stream",
       "stream": "stdout",
       "text": [
        "\n",
        "(Epoch 12 / 25) train acc: 0.880000; val_acc: 0.271000"
       ]
      },
      {
       "output_type": "stream",
       "stream": "stdout",
       "text": [
        "\n",
        "(Epoch 13 / 25) train acc: 0.906000; val_acc: 0.316000"
       ]
      },
      {
       "output_type": "stream",
       "stream": "stdout",
       "text": [
        "\n",
        "(Epoch 14 / 25) train acc: 0.918000; val_acc: 0.300000"
       ]
      },
      {
       "output_type": "stream",
       "stream": "stdout",
       "text": [
        "\n",
        "(Epoch 15 / 25) train acc: 0.946000; val_acc: 0.304000"
       ]
      },
      {
       "output_type": "stream",
       "stream": "stdout",
       "text": [
        "\n",
        "(Epoch 16 / 25) train acc: 0.934000; val_acc: 0.283000"
       ]
      },
      {
       "output_type": "stream",
       "stream": "stdout",
       "text": [
        "\n",
        "(Epoch 17 / 25) train acc: 0.970000; val_acc: 0.310000"
       ]
      },
      {
       "output_type": "stream",
       "stream": "stdout",
       "text": [
        "\n",
        "(Epoch 18 / 25) train acc: 0.936000; val_acc: 0.317000"
       ]
      },
      {
       "output_type": "stream",
       "stream": "stdout",
       "text": [
        "\n",
        "(Epoch 19 / 25) train acc: 0.972000; val_acc: 0.333000"
       ]
      },
      {
       "output_type": "stream",
       "stream": "stdout",
       "text": [
        "\n",
        "(Epoch 20 / 25) train acc: 0.930000; val_acc: 0.302000"
       ]
      },
      {
       "output_type": "stream",
       "stream": "stdout",
       "text": [
        "\n",
        "(Iteration 101 / 125) loss: 2.495035"
       ]
      },
      {
       "output_type": "stream",
       "stream": "stdout",
       "text": [
        "\n",
        "(Epoch 21 / 25) train acc: 0.952000; val_acc: 0.289000"
       ]
      },
      {
       "output_type": "stream",
       "stream": "stdout",
       "text": [
        "\n",
        "(Epoch 22 / 25) train acc: 0.938000; val_acc: 0.288000"
       ]
      },
      {
       "output_type": "stream",
       "stream": "stdout",
       "text": [
        "\n",
        "(Epoch 23 / 25) train acc: 0.976000; val_acc: 0.293000"
       ]
      },
      {
       "output_type": "stream",
       "stream": "stdout",
       "text": [
        "\n",
        "(Epoch 24 / 25) train acc: 0.982000; val_acc: 0.298000"
       ]
      },
      {
       "output_type": "stream",
       "stream": "stdout",
       "text": [
        "\n",
        "(Epoch 25 / 25) train acc: 0.970000; val_acc: 0.329000"
       ]
      },
      {
       "output_type": "stream",
       "stream": "stdout",
       "text": [
        "\n",
        "0.75"
       ]
      },
      {
       "output_type": "stream",
       "stream": "stdout",
       "text": [
        "\n",
        "(Iteration 1 / 125) loss: 17.152234"
       ]
      },
      {
       "output_type": "stream",
       "stream": "stdout",
       "text": [
        "\n",
        "(Epoch 0 / 25) train acc: 0.190000; val_acc: 0.171000"
       ]
      },
      {
       "output_type": "stream",
       "stream": "stdout",
       "text": [
        "\n",
        "(Epoch 1 / 25) train acc: 0.368000; val_acc: 0.261000"
       ]
      },
      {
       "output_type": "stream",
       "stream": "stdout",
       "text": [
        "\n",
        "(Epoch 2 / 25) train acc: 0.462000; val_acc: 0.301000"
       ]
      },
      {
       "output_type": "stream",
       "stream": "stdout",
       "text": [
        "\n",
        "(Epoch 3 / 25) train acc: 0.502000; val_acc: 0.270000"
       ]
      },
      {
       "output_type": "stream",
       "stream": "stdout",
       "text": [
        "\n",
        "(Epoch 4 / 25) train acc: 0.588000; val_acc: 0.307000"
       ]
      },
      {
       "output_type": "stream",
       "stream": "stdout",
       "text": [
        "\n",
        "(Epoch 5 / 25) train acc: 0.618000; val_acc: 0.319000"
       ]
      },
      {
       "output_type": "stream",
       "stream": "stdout",
       "text": [
        "\n",
        "(Epoch 6 / 25) train acc: 0.630000; val_acc: 0.290000"
       ]
      },
      {
       "output_type": "stream",
       "stream": "stdout",
       "text": [
        "\n",
        "(Epoch 7 / 25) train acc: 0.676000; val_acc: 0.289000"
       ]
      },
      {
       "output_type": "stream",
       "stream": "stdout",
       "text": [
        "\n",
        "(Epoch 8 / 25) train acc: 0.704000; val_acc: 0.318000"
       ]
      },
      {
       "output_type": "stream",
       "stream": "stdout",
       "text": [
        "\n",
        "(Epoch 9 / 25) train acc: 0.748000; val_acc: 0.336000"
       ]
      },
      {
       "output_type": "stream",
       "stream": "stdout",
       "text": [
        "\n",
        "(Epoch 10 / 25) train acc: 0.750000; val_acc: 0.299000"
       ]
      },
      {
       "output_type": "stream",
       "stream": "stdout",
       "text": [
        "\n",
        "(Epoch 11 / 25) train acc: 0.786000; val_acc: 0.303000"
       ]
      },
      {
       "output_type": "stream",
       "stream": "stdout",
       "text": [
        "\n",
        "(Epoch 12 / 25) train acc: 0.802000; val_acc: 0.307000"
       ]
      },
      {
       "output_type": "stream",
       "stream": "stdout",
       "text": [
        "\n",
        "(Epoch 13 / 25) train acc: 0.798000; val_acc: 0.297000"
       ]
      },
      {
       "output_type": "stream",
       "stream": "stdout",
       "text": [
        "\n",
        "(Epoch 14 / 25) train acc: 0.842000; val_acc: 0.317000"
       ]
      },
      {
       "output_type": "stream",
       "stream": "stdout",
       "text": [
        "\n",
        "(Epoch 15 / 25) train acc: 0.806000; val_acc: 0.305000"
       ]
      },
      {
       "output_type": "stream",
       "stream": "stdout",
       "text": [
        "\n",
        "(Epoch 16 / 25) train acc: 0.878000; val_acc: 0.307000"
       ]
      },
      {
       "output_type": "stream",
       "stream": "stdout",
       "text": [
        "\n",
        "(Epoch 17 / 25) train acc: 0.840000; val_acc: 0.293000"
       ]
      },
      {
       "output_type": "stream",
       "stream": "stdout",
       "text": [
        "\n",
        "(Epoch 18 / 25) train acc: 0.870000; val_acc: 0.322000"
       ]
      },
      {
       "output_type": "stream",
       "stream": "stdout",
       "text": [
        "\n",
        "(Epoch 19 / 25) train acc: 0.882000; val_acc: 0.331000"
       ]
      },
      {
       "output_type": "stream",
       "stream": "stdout",
       "text": [
        "\n",
        "(Epoch 20 / 25) train acc: 0.864000; val_acc: 0.303000"
       ]
      },
      {
       "output_type": "stream",
       "stream": "stdout",
       "text": [
        "\n",
        "(Iteration 101 / 125) loss: 4.849449"
       ]
      },
      {
       "output_type": "stream",
       "stream": "stdout",
       "text": [
        "\n",
        "(Epoch 21 / 25) train acc: 0.896000; val_acc: 0.323000"
       ]
      },
      {
       "output_type": "stream",
       "stream": "stdout",
       "text": [
        "\n",
        "(Epoch 22 / 25) train acc: 0.852000; val_acc: 0.309000"
       ]
      },
      {
       "output_type": "stream",
       "stream": "stdout",
       "text": [
        "\n",
        "(Epoch 23 / 25) train acc: 0.918000; val_acc: 0.320000"
       ]
      },
      {
       "output_type": "stream",
       "stream": "stdout",
       "text": [
        "\n",
        "(Epoch 24 / 25) train acc: 0.922000; val_acc: 0.325000"
       ]
      },
      {
       "output_type": "stream",
       "stream": "stdout",
       "text": [
        "\n",
        "(Epoch 25 / 25) train acc: 0.920000; val_acc: 0.324000"
       ]
      },
      {
       "output_type": "stream",
       "stream": "stdout",
       "text": [
        "\n",
        "0.8"
       ]
      },
      {
       "output_type": "stream",
       "stream": "stdout",
       "text": [
        "\n",
        "(Iteration 1 / 125) loss: 18.593013"
       ]
      },
      {
       "output_type": "stream",
       "stream": "stdout",
       "text": [
        "\n",
        "(Epoch 0 / 25) train acc: 0.256000; val_acc: 0.211000"
       ]
      },
      {
       "output_type": "stream",
       "stream": "stdout",
       "text": [
        "\n",
        "(Epoch 1 / 25) train acc: 0.340000; val_acc: 0.237000"
       ]
      },
      {
       "output_type": "stream",
       "stream": "stdout",
       "text": [
        "\n",
        "(Epoch 2 / 25) train acc: 0.426000; val_acc: 0.272000"
       ]
      },
      {
       "output_type": "stream",
       "stream": "stdout",
       "text": [
        "\n",
        "(Epoch 3 / 25) train acc: 0.480000; val_acc: 0.285000"
       ]
      },
      {
       "output_type": "stream",
       "stream": "stdout",
       "text": [
        "\n",
        "(Epoch 4 / 25) train acc: 0.552000; val_acc: 0.304000"
       ]
      },
      {
       "output_type": "stream",
       "stream": "stdout",
       "text": [
        "\n",
        "(Epoch 5 / 25) train acc: 0.592000; val_acc: 0.297000"
       ]
      },
      {
       "output_type": "stream",
       "stream": "stdout",
       "text": [
        "\n",
        "(Epoch 6 / 25) train acc: 0.610000; val_acc: 0.306000"
       ]
      },
      {
       "output_type": "stream",
       "stream": "stdout",
       "text": [
        "\n",
        "(Epoch 7 / 25) train acc: 0.642000; val_acc: 0.320000"
       ]
      },
      {
       "output_type": "stream",
       "stream": "stdout",
       "text": [
        "\n",
        "(Epoch 8 / 25) train acc: 0.668000; val_acc: 0.308000"
       ]
      },
      {
       "output_type": "stream",
       "stream": "stdout",
       "text": [
        "\n",
        "(Epoch 9 / 25) train acc: 0.704000; val_acc: 0.308000"
       ]
      },
      {
       "output_type": "stream",
       "stream": "stdout",
       "text": [
        "\n",
        "(Epoch 10 / 25) train acc: 0.736000; val_acc: 0.321000"
       ]
      },
      {
       "output_type": "stream",
       "stream": "stdout",
       "text": [
        "\n",
        "(Epoch 11 / 25) train acc: 0.714000; val_acc: 0.286000"
       ]
      },
      {
       "output_type": "stream",
       "stream": "stdout",
       "text": [
        "\n",
        "(Epoch 12 / 25) train acc: 0.734000; val_acc: 0.298000"
       ]
      },
      {
       "output_type": "stream",
       "stream": "stdout",
       "text": [
        "\n",
        "(Epoch 13 / 25) train acc: 0.790000; val_acc: 0.320000"
       ]
      },
      {
       "output_type": "stream",
       "stream": "stdout",
       "text": [
        "\n",
        "(Epoch 14 / 25) train acc: 0.788000; val_acc: 0.287000"
       ]
      },
      {
       "output_type": "stream",
       "stream": "stdout",
       "text": [
        "\n",
        "(Epoch 15 / 25) train acc: 0.852000; val_acc: 0.314000"
       ]
      },
      {
       "output_type": "stream",
       "stream": "stdout",
       "text": [
        "\n",
        "(Epoch 16 / 25) train acc: 0.812000; val_acc: 0.316000"
       ]
      },
      {
       "output_type": "stream",
       "stream": "stdout",
       "text": [
        "\n",
        "(Epoch 17 / 25) train acc: 0.840000; val_acc: 0.326000"
       ]
      },
      {
       "output_type": "stream",
       "stream": "stdout",
       "text": [
        "\n",
        "(Epoch 18 / 25) train acc: 0.858000; val_acc: 0.311000"
       ]
      },
      {
       "output_type": "stream",
       "stream": "stdout",
       "text": [
        "\n",
        "(Epoch 19 / 25) train acc: 0.844000; val_acc: 0.331000"
       ]
      },
      {
       "output_type": "stream",
       "stream": "stdout",
       "text": [
        "\n",
        "(Epoch 20 / 25) train acc: 0.860000; val_acc: 0.339000"
       ]
      },
      {
       "output_type": "stream",
       "stream": "stdout",
       "text": [
        "\n",
        "(Iteration 101 / 125) loss: 6.835064"
       ]
      },
      {
       "output_type": "stream",
       "stream": "stdout",
       "text": [
        "\n",
        "(Epoch 21 / 25) train acc: 0.872000; val_acc: 0.308000"
       ]
      },
      {
       "output_type": "stream",
       "stream": "stdout",
       "text": [
        "\n",
        "(Epoch 22 / 25) train acc: 0.876000; val_acc: 0.321000"
       ]
      },
      {
       "output_type": "stream",
       "stream": "stdout",
       "text": [
        "\n",
        "(Epoch 23 / 25) train acc: 0.890000; val_acc: 0.308000"
       ]
      },
      {
       "output_type": "stream",
       "stream": "stdout",
       "text": [
        "\n",
        "(Epoch 24 / 25) train acc: 0.886000; val_acc: 0.308000"
       ]
      },
      {
       "output_type": "stream",
       "stream": "stdout",
       "text": [
        "\n",
        "(Epoch 25 / 25) train acc: 0.894000; val_acc: 0.309000"
       ]
      },
      {
       "output_type": "stream",
       "stream": "stdout",
       "text": [
        "\n",
        "0.9"
       ]
      },
      {
       "output_type": "stream",
       "stream": "stdout",
       "text": [
        "\n",
        "(Iteration 1 / 125) loss: 21.589480"
       ]
      },
      {
       "output_type": "stream",
       "stream": "stdout",
       "text": [
        "\n",
        "(Epoch 0 / 25) train acc: 0.196000; val_acc: 0.151000"
       ]
      },
      {
       "output_type": "stream",
       "stream": "stdout",
       "text": [
        "\n",
        "(Epoch 1 / 25) train acc: 0.290000; val_acc: 0.214000"
       ]
      },
      {
       "output_type": "stream",
       "stream": "stdout",
       "text": [
        "\n",
        "(Epoch 2 / 25) train acc: 0.372000; val_acc: 0.248000"
       ]
      },
      {
       "output_type": "stream",
       "stream": "stdout",
       "text": [
        "\n",
        "(Epoch 3 / 25) train acc: 0.380000; val_acc: 0.279000"
       ]
      },
      {
       "output_type": "stream",
       "stream": "stdout",
       "text": [
        "\n",
        "(Epoch 4 / 25) train acc: 0.422000; val_acc: 0.290000"
       ]
      },
      {
       "output_type": "stream",
       "stream": "stdout",
       "text": [
        "\n",
        "(Epoch 5 / 25) train acc: 0.458000; val_acc: 0.286000"
       ]
      },
      {
       "output_type": "stream",
       "stream": "stdout",
       "text": [
        "\n",
        "(Epoch 6 / 25) train acc: 0.476000; val_acc: 0.304000"
       ]
      },
      {
       "output_type": "stream",
       "stream": "stdout",
       "text": [
        "\n",
        "(Epoch 7 / 25) train acc: 0.486000; val_acc: 0.305000"
       ]
      },
      {
       "output_type": "stream",
       "stream": "stdout",
       "text": [
        "\n",
        "(Epoch 8 / 25) train acc: 0.556000; val_acc: 0.308000"
       ]
      },
      {
       "output_type": "stream",
       "stream": "stdout",
       "text": [
        "\n",
        "(Epoch 9 / 25) train acc: 0.572000; val_acc: 0.313000"
       ]
      },
      {
       "output_type": "stream",
       "stream": "stdout",
       "text": [
        "\n",
        "(Epoch 10 / 25) train acc: 0.606000; val_acc: 0.318000"
       ]
      },
      {
       "output_type": "stream",
       "stream": "stdout",
       "text": [
        "\n",
        "(Epoch 11 / 25) train acc: 0.590000; val_acc: 0.303000"
       ]
      },
      {
       "output_type": "stream",
       "stream": "stdout",
       "text": [
        "\n",
        "(Epoch 12 / 25) train acc: 0.592000; val_acc: 0.324000"
       ]
      },
      {
       "output_type": "stream",
       "stream": "stdout",
       "text": [
        "\n",
        "(Epoch 13 / 25) train acc: 0.614000; val_acc: 0.323000"
       ]
      },
      {
       "output_type": "stream",
       "stream": "stdout",
       "text": [
        "\n",
        "(Epoch 14 / 25) train acc: 0.648000; val_acc: 0.324000"
       ]
      },
      {
       "output_type": "stream",
       "stream": "stdout",
       "text": [
        "\n",
        "(Epoch 15 / 25) train acc: 0.666000; val_acc: 0.328000"
       ]
      },
      {
       "output_type": "stream",
       "stream": "stdout",
       "text": [
        "\n",
        "(Epoch 16 / 25) train acc: 0.660000; val_acc: 0.332000"
       ]
      },
      {
       "output_type": "stream",
       "stream": "stdout",
       "text": [
        "\n",
        "(Epoch 17 / 25) train acc: 0.670000; val_acc: 0.312000"
       ]
      },
      {
       "output_type": "stream",
       "stream": "stdout",
       "text": [
        "\n",
        "(Epoch 18 / 25) train acc: 0.694000; val_acc: 0.339000"
       ]
      },
      {
       "output_type": "stream",
       "stream": "stdout",
       "text": [
        "\n",
        "(Epoch 19 / 25) train acc: 0.688000; val_acc: 0.322000"
       ]
      },
      {
       "output_type": "stream",
       "stream": "stdout",
       "text": [
        "\n",
        "(Epoch 20 / 25) train acc: 0.712000; val_acc: 0.327000"
       ]
      },
      {
       "output_type": "stream",
       "stream": "stdout",
       "text": [
        "\n",
        "(Iteration 101 / 125) loss: 16.838735"
       ]
      },
      {
       "output_type": "stream",
       "stream": "stdout",
       "text": [
        "\n",
        "(Epoch 21 / 25) train acc: 0.752000; val_acc: 0.330000"
       ]
      },
      {
       "output_type": "stream",
       "stream": "stdout",
       "text": [
        "\n",
        "(Epoch 22 / 25) train acc: 0.748000; val_acc: 0.320000"
       ]
      },
      {
       "output_type": "stream",
       "stream": "stdout",
       "text": [
        "\n",
        "(Epoch 23 / 25) train acc: 0.746000; val_acc: 0.332000"
       ]
      },
      {
       "output_type": "stream",
       "stream": "stdout",
       "text": [
        "\n",
        "(Epoch 24 / 25) train acc: 0.758000; val_acc: 0.328000"
       ]
      },
      {
       "output_type": "stream",
       "stream": "stdout",
       "text": [
        "\n",
        "(Epoch 25 / 25) train acc: 0.766000; val_acc: 0.323000"
       ]
      },
      {
       "output_type": "stream",
       "stream": "stdout",
       "text": [
        "\n",
        "0.99"
       ]
      },
      {
       "output_type": "stream",
       "stream": "stdout",
       "text": [
        "\n",
        "(Iteration 1 / 125) loss: inf"
       ]
      },
      {
       "output_type": "stream",
       "stream": "stdout",
       "text": [
        "\n",
        "(Epoch 0 / 25) train acc: 0.120000; val_acc: 0.084000"
       ]
      },
      {
       "output_type": "stream",
       "stream": "stdout",
       "text": [
        "\n",
        "(Epoch 1 / 25) train acc: 0.182000; val_acc: 0.142000"
       ]
      },
      {
       "output_type": "stream",
       "stream": "stdout",
       "text": [
        "\n",
        "(Epoch 2 / 25) train acc: 0.204000; val_acc: 0.183000"
       ]
      },
      {
       "output_type": "stream",
       "stream": "stdout",
       "text": [
        "\n",
        "(Epoch 3 / 25) train acc: 0.212000; val_acc: 0.209000"
       ]
      },
      {
       "output_type": "stream",
       "stream": "stdout",
       "text": [
        "\n",
        "(Epoch 4 / 25) train acc: 0.248000; val_acc: 0.222000"
       ]
      },
      {
       "output_type": "stream",
       "stream": "stdout",
       "text": [
        "\n",
        "(Epoch 5 / 25) train acc: 0.260000; val_acc: 0.228000"
       ]
      },
      {
       "output_type": "stream",
       "stream": "stdout",
       "text": [
        "\n",
        "(Epoch 6 / 25) train acc: 0.278000; val_acc: 0.238000"
       ]
      },
      {
       "output_type": "stream",
       "stream": "stdout",
       "text": [
        "\n",
        "(Epoch 7 / 25) train acc: 0.280000; val_acc: 0.234000"
       ]
      },
      {
       "output_type": "stream",
       "stream": "stdout",
       "text": [
        "\n",
        "(Epoch 8 / 25) train acc: 0.296000; val_acc: 0.252000"
       ]
      },
      {
       "output_type": "stream",
       "stream": "stdout",
       "text": [
        "\n",
        "(Epoch 9 / 25) train acc: 0.306000; val_acc: 0.261000"
       ]
      },
      {
       "output_type": "stream",
       "stream": "stdout",
       "text": [
        "\n",
        "(Epoch 10 / 25) train acc: 0.298000; val_acc: 0.284000"
       ]
      },
      {
       "output_type": "stream",
       "stream": "stdout",
       "text": [
        "\n",
        "(Epoch 11 / 25) train acc: 0.308000; val_acc: 0.297000"
       ]
      },
      {
       "output_type": "stream",
       "stream": "stdout",
       "text": [
        "\n",
        "(Epoch 12 / 25) train acc: 0.308000; val_acc: 0.295000"
       ]
      },
      {
       "output_type": "stream",
       "stream": "stdout",
       "text": [
        "\n",
        "(Epoch 13 / 25) train acc: 0.330000; val_acc: 0.281000"
       ]
      },
      {
       "output_type": "stream",
       "stream": "stdout",
       "text": [
        "\n",
        "(Epoch 14 / 25) train acc: 0.322000; val_acc: 0.288000"
       ]
      },
      {
       "output_type": "stream",
       "stream": "stdout",
       "text": [
        "\n",
        "(Epoch 15 / 25) train acc: 0.342000; val_acc: 0.292000"
       ]
      },
      {
       "output_type": "stream",
       "stream": "stdout",
       "text": [
        "\n",
        "(Epoch 16 / 25) train acc: 0.328000; val_acc: 0.282000"
       ]
      },
      {
       "output_type": "stream",
       "stream": "stdout",
       "text": [
        "\n",
        "(Epoch 17 / 25) train acc: 0.324000; val_acc: 0.287000"
       ]
      },
      {
       "output_type": "stream",
       "stream": "stdout",
       "text": [
        "\n",
        "(Epoch 18 / 25) train acc: 0.330000; val_acc: 0.286000"
       ]
      },
      {
       "output_type": "stream",
       "stream": "stdout",
       "text": [
        "\n",
        "(Epoch 19 / 25) train acc: 0.336000; val_acc: 0.278000"
       ]
      },
      {
       "output_type": "stream",
       "stream": "stdout",
       "text": [
        "\n",
        "(Epoch 20 / 25) train acc: 0.346000; val_acc: 0.284000"
       ]
      },
      {
       "output_type": "stream",
       "stream": "stdout",
       "text": [
        "\n",
        "(Iteration 101 / 125) loss: 66.612218"
       ]
      },
      {
       "output_type": "stream",
       "stream": "stdout",
       "text": [
        "\n",
        "(Epoch 21 / 25) train acc: 0.342000; val_acc: 0.279000"
       ]
      },
      {
       "output_type": "stream",
       "stream": "stdout",
       "text": [
        "\n",
        "(Epoch 22 / 25) train acc: 0.342000; val_acc: 0.271000"
       ]
      },
      {
       "output_type": "stream",
       "stream": "stdout",
       "text": [
        "\n",
        "(Epoch 23 / 25) train acc: 0.338000; val_acc: 0.275000"
       ]
      },
      {
       "output_type": "stream",
       "stream": "stdout",
       "text": [
        "\n",
        "(Epoch 24 / 25) train acc: 0.354000; val_acc: 0.281000"
       ]
      },
      {
       "output_type": "stream",
       "stream": "stdout",
       "text": [
        "\n",
        "(Epoch 25 / 25) train acc: 0.364000; val_acc: 0.290000"
       ]
      },
      {
       "output_type": "stream",
       "stream": "stdout",
       "text": [
        "\n"
       ]
      }
     ],
     "prompt_number": 10
    },
    {
     "cell_type": "code",
     "collapsed": false,
     "input": [
      "# Plot train and validation accuracies of the two models\n",
      "\n",
      "train_accs = []\n",
      "val_accs = []\n",
      "for dropout in dropout_choices:\n",
      "  solver = solvers[dropout]\n",
      "  train_accs.append(solver.train_acc_history[-1])\n",
      "  val_accs.append(solver.val_acc_history[-1])\n",
      "\n",
      "plt.subplot(3, 1, 1)\n",
      "for dropout in dropout_choices:\n",
      "  plt.plot(solvers[dropout].train_acc_history, 'o', label='%.2f dropout' % dropout)\n",
      "plt.title('Train accuracy')\n",
      "plt.xlabel('Epoch')\n",
      "plt.ylabel('Accuracy')\n",
      "plt.legend(ncol=2, loc='lower right')\n",
      "  \n",
      "plt.subplot(3, 1, 2)\n",
      "for dropout in dropout_choices:\n",
      "  plt.plot(solvers[dropout].val_acc_history, 'o', label='%.2f dropout' % dropout)\n",
      "plt.title('Val accuracy')\n",
      "plt.xlabel('Epoch')\n",
      "plt.ylabel('Accuracy')\n",
      "plt.legend(ncol=2, loc='lower right')\n",
      "\n",
      "plt.gcf().set_size_inches(15, 15)\n",
      "plt.show()"
     ],
     "language": "python",
     "metadata": {},
     "outputs": [
      {
       "metadata": {},
       "output_type": "display_data",
       "png": "[encoded data removed]",
       "text": [
        "<matplotlib.figure.Figure at 0x7fa7802425d0>"
       ]
      }
     ],
     "prompt_number": 11
    },
    {
     "cell_type": "markdown",
     "metadata": {},
     "source": [
      "# Question\n",
      "Explain what you see in this experiment. What does it suggest about dropout?"
     ]
    },
    {
     "cell_type": "markdown",
     "metadata": {},
     "source": [
      "# Answer\n",
      "Dropout prevent overfitting. Without dropout, the gap accuracy between training and validation could be 65%. If using dropout, the larger p we use the gap accuracy between training and validation would be smaller. However, since dropout reduces the capacity of neural network if we use a too large p, the network would be to weak to fit to data."
     ]
    },
    {
     "cell_type": "code",
     "collapsed": false,
     "input": [],
     "language": "python",
     "metadata": {},
     "outputs": []
    }
   ],
   "metadata": {}
  }
 ]
}