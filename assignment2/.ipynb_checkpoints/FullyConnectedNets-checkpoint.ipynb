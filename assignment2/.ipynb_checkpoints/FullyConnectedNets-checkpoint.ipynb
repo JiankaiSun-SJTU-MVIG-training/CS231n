{
 "metadata": {
  "kernelspec": {
   "display_name": "Python 2",
   "language": "python",
   "name": "python2"
  },
  "language_info": {
   "codemirror_mode": {
    "name": "ipython",
    "version": 2
   },
   "file_extension": ".py",
   "mimetype": "text/x-python",
   "name": "python",
   "nbconvert_exporter": "python",
   "pygments_lexer": "ipython2",
   "version": "2.7.6"
  },
  "name": "",
  "signature": "sha256:496d275efdffeb3fccffc0469410b69165164488f9a16c20fa55a720c142f764"
 },
 "nbformat": 3,
 "nbformat_minor": 0,
 "worksheets": [
  {
   "cells": [
    {
     "cell_type": "markdown",
     "metadata": {},
     "source": [
      "# Fully-Connected Neural Nets\n",
      "In the previous homework you implemented a fully-connected two-layer neural network on CIFAR-10. The implementation was simple but not very modular since the loss and gradient were computed in a single monolithic function. This is manageable for a simple two-layer network, but would become impractical as we move to bigger models. Ideally we want to build networks using a more modular design so that we can implement different layer types in isolation and then snap them together into models with different architectures.\n",
      "\n",
      "In this exercise we will implement fully-connected networks using a more modular approach. For each layer we will implement a `forward` and a `backward` function. The `forward` function will receive inputs, weights, and other parameters and will return both an output and a `cache` object storing data needed for the backward pass, like this:\n",
      "\n",
      "```python\n",
      "def layer_forward(x, w):\n",
      "  \"\"\" Receive inputs x and weights w \"\"\"\n",
      "  # Do some computations ...\n",
      "  z = # ... some intermediate value\n",
      "  # Do some more computations ...\n",
      "  out = # the output\n",
      "   \n",
      "  cache = (x, w, z, out) # Values we need to compute gradients\n",
      "   \n",
      "  return out, cache\n",
      "```\n",
      "\n",
      "The backward pass will receive upstream derivatives and the `cache` object, and will return gradients with respect to the inputs and weights, like this:\n",
      "\n",
      "```python\n",
      "def layer_backward(dout, cache):\n",
      "  \"\"\"\n",
      "  Receive derivative of loss with respect to outputs and cache,\n",
      "  and compute derivative with respect to inputs.\n",
      "  \"\"\"\n",
      "  # Unpack cache values\n",
      "  x, w, z, out = cache\n",
      "  \n",
      "  # Use values in cache to compute derivatives\n",
      "  dx = # Derivative of loss with respect to x\n",
      "  dw = # Derivative of loss with respect to w\n",
      "  \n",
      "  return dx, dw\n",
      "```\n",
      "\n",
      "After implementing a bunch of layers this way, we will be able to easily combine them to build classifiers with different architectures.\n",
      "\n",
      "In addition to implementing fully-connected networks of arbitrary depth, we will also explore different update rules for optimization, and introduce Dropout as a regularizer and Batch Normalization as a tool to more efficiently optimize deep networks.\n",
      "  "
     ]
    },
    {
     "cell_type": "code",
     "collapsed": false,
     "input": [
      "# As usual, a bit of setup\n",
      "\n",
      "import time\n",
      "import numpy as np\n",
      "import matplotlib.pyplot as plt\n",
      "from cs231n.classifiers.fc_net import *\n",
      "from cs231n.data_utils import get_CIFAR10_data\n",
      "from cs231n.gradient_check import eval_numerical_gradient, eval_numerical_gradient_array\n",
      "from cs231n.solver import Solver\n",
      "\n",
      "%matplotlib inline\n",
      "plt.rcParams['figure.figsize'] = (10.0, 8.0) # set default size of plots\n",
      "plt.rcParams['image.interpolation'] = 'nearest'\n",
      "plt.rcParams['image.cmap'] = 'gray'\n",
      "\n",
      "# for auto-reloading external modules\n",
      "# see http://stackoverflow.com/questions/1907993/autoreload-of-modules-in-ipython\n",
      "%load_ext autoreload\n",
      "%autoreload 2\n",
      "\n",
      "def rel_error(x, y):\n",
      "  \"\"\" returns relative error \"\"\"\n",
      "  return np.max(np.abs(x - y) / (np.maximum(1e-8, np.abs(x) + np.abs(y))))"
     ],
     "language": "python",
     "metadata": {},
     "outputs": [],
     "prompt_number": 3
    },
    {
     "cell_type": "code",
     "collapsed": false,
     "input": [
      "# Load the (preprocessed) CIFAR10 data.\n",
      "\n",
      "data = get_CIFAR10_data()\n",
      "for k, v in data.iteritems():\n",
      "  print '%s: ' % k, v.shape"
     ],
     "language": "python",
     "metadata": {},
     "outputs": [
      {
       "output_type": "stream",
       "stream": "stdout",
       "text": [
        "X_val:  (1000, 3, 32, 32)"
       ]
      },
      {
       "output_type": "stream",
       "stream": "stdout",
       "text": [
        "\n",
        "X_train:  (49000, 3, 32, 32)\n",
        "X_test:  (1000, 3, 32, 32)\n",
        "y_val:  (1000,)\n",
        "y_train:  (49000,)\n",
        "y_test:  (1000,)\n"
       ]
      }
     ],
     "prompt_number": 4
    },
    {
     "cell_type": "markdown",
     "metadata": {},
     "source": [
      "# Affine layer: foward\n",
      "Open the file `cs231n/layers.py` and implement the `affine_forward` function.\n",
      "\n",
      "Once you are done you can test your implementaion by running the following:"
     ]
    },
    {
     "cell_type": "code",
     "collapsed": false,
     "input": [
      "# Test the affine_forward function\n",
      "\n",
      "num_inputs = 2\n",
      "input_shape = (4, 5, 6)\n",
      "output_dim = 3\n",
      "\n",
      "input_size = num_inputs * np.prod(input_shape)\n",
      "weight_size = output_dim * np.prod(input_shape)\n",
      "\n",
      "x = np.linspace(-0.1, 0.5, num=input_size).reshape(num_inputs, *input_shape)\n",
      "w = np.linspace(-0.2, 0.3, num=weight_size).reshape(np.prod(input_shape), output_dim)\n",
      "b = np.linspace(-0.3, 0.1, num=output_dim)\n",
      "\n",
      "out, _ = affine_forward(x, w, b)\n",
      "correct_out = np.array([[ 1.49834967,  1.70660132,  1.91485297],\n",
      "                        [ 3.25553199,  3.5141327,   3.77273342]])\n",
      "\n",
      "# Compare your output with ours. The error should be around 1e-9.\n",
      "print 'Testing affine_forward function:'\n",
      "print 'difference: ', rel_error(out, correct_out)"
     ],
     "language": "python",
     "metadata": {},
     "outputs": [
      {
       "output_type": "stream",
       "stream": "stdout",
       "text": [
        "Testing affine_forward function:\n",
        "difference:  9.76984946819e-10\n"
       ]
      }
     ],
     "prompt_number": 5
    },
    {
     "cell_type": "markdown",
     "metadata": {},
     "source": [
      "# Affine layer: backward\n",
      "Now implement the `affine_backward` function and test your implementation using numeric gradient checking."
     ]
    },
    {
     "cell_type": "code",
     "collapsed": false,
     "input": [
      "# Test the affine_backward function\n",
      "\n",
      "x = np.random.randn(10, 2, 3)\n",
      "w = np.random.randn(6, 5)\n",
      "b = np.random.randn(5)\n",
      "dout = np.random.randn(10, 5)\n",
      "\n",
      "dx_num = eval_numerical_gradient_array(lambda x: affine_forward(x, w, b)[0], x, dout)\n",
      "dw_num = eval_numerical_gradient_array(lambda w: affine_forward(x, w, b)[0], w, dout)\n",
      "db_num = eval_numerical_gradient_array(lambda b: affine_forward(x, w, b)[0], b, dout)\n",
      "\n",
      "_, cache = affine_forward(x, w, b)\n",
      "dx, dw, db = affine_backward(dout, cache)\n",
      "\n",
      "# The error should be around 1e-10\n",
      "print 'Testing affine_backward function:'\n",
      "print 'dx error: ', rel_error(dx_num, dx)\n",
      "print 'dw error: ', rel_error(dw_num, dw)\n",
      "print 'db error: ', rel_error(db_num, db)"
     ],
     "language": "python",
     "metadata": {},
     "outputs": [
      {
       "output_type": "stream",
       "stream": "stdout",
       "text": [
        "Testing affine_backward function:\n",
        "dx error:  2.96263007968e-10\n",
        "dw error:  1.03033692819e-10\n",
        "db error:  2.41476197926e-11\n"
       ]
      }
     ],
     "prompt_number": 6
    },
    {
     "cell_type": "markdown",
     "metadata": {},
     "source": [
      "# ReLU layer: forward\n",
      "Implement the forward pass for the ReLU activation function in the `relu_forward` function and test your implementation using the following:"
     ]
    },
    {
     "cell_type": "code",
     "collapsed": false,
     "input": [
      "# Test the relu_forward function\n",
      "\n",
      "x = np.linspace(-0.5, 0.5, num=12).reshape(3, 4)\n",
      "\n",
      "out, _ = relu_forward(x)\n",
      "correct_out = np.array([[ 0.,          0.,          0.,          0.,        ],\n",
      "                        [ 0.,          0.,          0.04545455,  0.13636364,],\n",
      "                        [ 0.22727273,  0.31818182,  0.40909091,  0.5,       ]])\n",
      "\n",
      "# Compare your output with ours. The error should be around 1e-8\n",
      "print 'Testing relu_forward function:'\n",
      "print 'difference: ', rel_error(out, correct_out)"
     ],
     "language": "python",
     "metadata": {},
     "outputs": [
      {
       "output_type": "stream",
       "stream": "stdout",
       "text": [
        "Testing relu_forward function:\n",
        "difference:  4.99999979802e-08\n"
       ]
      }
     ],
     "prompt_number": 7
    },
    {
     "cell_type": "markdown",
     "metadata": {},
     "source": [
      "# ReLU layer: backward\n",
      "Now implement the backward pass for the ReLU activation function in the `relu_backward` function and test your implementation using numeric gradient checking:"
     ]
    },
    {
     "cell_type": "code",
     "collapsed": false,
     "input": [
      "x = np.random.randn(10, 10)\n",
      "dout = np.random.randn(*x.shape)\n",
      "\n",
      "dx_num = eval_numerical_gradient_array(lambda x: relu_forward(x)[0], x, dout)\n",
      "\n",
      "_, cache = relu_forward(x)\n",
      "dx = relu_backward(dout, cache)\n",
      "\n",
      "# The error should be around 1e-12\n",
      "print 'Testing relu_backward function:'\n",
      "print 'dx error: ', rel_error(dx_num, dx)"
     ],
     "language": "python",
     "metadata": {},
     "outputs": [
      {
       "output_type": "stream",
       "stream": "stdout",
       "text": [
        "Testing relu_backward function:\n",
        "dx error:  3.27561791135e-12\n"
       ]
      }
     ],
     "prompt_number": 8
    },
    {
     "cell_type": "markdown",
     "metadata": {},
     "source": [
      "# \"Sandwich\" layers\n",
      "There are some common patterns of layers that are frequently used in neural nets. For example, affine layers are frequently followed by a ReLU nonlinearity. To make these common patterns easy, we define several convenience layers in the file `cs231n/layer_utils.py`.\n",
      "\n",
      "For now take a look at the `affine_relu_forward` and `affine_relu_backward` functions, and run the following to numerically gradient check the backward pass:"
     ]
    },
    {
     "cell_type": "code",
     "collapsed": false,
     "input": [
      "from cs231n.layer_utils import affine_relu_forward, affine_relu_backward\n",
      "\n",
      "x = np.random.randn(2, 3, 4)\n",
      "w = np.random.randn(12, 10)\n",
      "b = np.random.randn(10)\n",
      "dout = np.random.randn(2, 10)\n",
      "\n",
      "out, cache = affine_relu_forward(x, w, b)\n",
      "dx, dw, db = affine_relu_backward(dout, cache)\n",
      "\n",
      "dx_num = eval_numerical_gradient_array(lambda x: affine_relu_forward(x, w, b)[0], x, dout)\n",
      "dw_num = eval_numerical_gradient_array(lambda w: affine_relu_forward(x, w, b)[0], w, dout)\n",
      "db_num = eval_numerical_gradient_array(lambda b: affine_relu_forward(x, w, b)[0], b, dout)\n",
      "\n",
      "print 'Testing affine_relu_forward:'\n",
      "print 'dx error: ', rel_error(dx_num, dx)\n",
      "print 'dw error: ', rel_error(dw_num, dw)\n",
      "print 'db error: ', rel_error(db_num, db)"
     ],
     "language": "python",
     "metadata": {},
     "outputs": [
      {
       "output_type": "stream",
       "stream": "stdout",
       "text": [
        "Testing affine_relu_forward:\n",
        "dx error:  2.70500927526e-11\n",
        "dw error:  9.2129026073e-10\n",
        "db error:  3.27562817338e-12\n"
       ]
      }
     ],
     "prompt_number": 9
    },
    {
     "cell_type": "markdown",
     "metadata": {},
     "source": [
      "# Loss layers: Softmax and SVM\n",
      "You implemented these loss functions in the last assignment, so we'll give them to you for free here. You should still make sure you understand how they work by looking at the implementations in `cs231n/layers.py`.\n",
      "\n",
      "You can make sure that the implementations are correct by running the following:"
     ]
    },
    {
     "cell_type": "code",
     "collapsed": false,
     "input": [
      "num_classes, num_inputs = 10, 50\n",
      "x = 0.001 * np.random.randn(num_inputs, num_classes)\n",
      "y = np.random.randint(num_classes, size=num_inputs)\n",
      "\n",
      "dx_num = eval_numerical_gradient(lambda x: svm_loss(x, y)[0], x, verbose=False)\n",
      "loss, dx = svm_loss(x, y)\n",
      "\n",
      "# Test svm_loss function. Loss should be around 9 and dx error should be 1e-9\n",
      "print 'Testing svm_loss:'\n",
      "print 'loss: ', loss\n",
      "print 'dx error: ', rel_error(dx_num, dx)\n",
      "\n",
      "dx_num = eval_numerical_gradient(lambda x: softmax_loss(x, y)[0], x, verbose=False)\n",
      "loss, dx = softmax_loss(x, y)\n",
      "\n",
      "# Test softmax_loss function. Loss should be 2.3 and dx error should be 1e-8\n",
      "print '\\nTesting softmax_loss:'\n",
      "print 'loss: ', loss\n",
      "print 'dx error: ', rel_error(dx_num, dx)"
     ],
     "language": "python",
     "metadata": {},
     "outputs": [
      {
       "output_type": "stream",
       "stream": "stdout",
       "text": [
        "Testing svm_loss:\n",
        "loss:  9.00137099259\n",
        "dx error:  1.40215660067e-09\n",
        "\n",
        "Testing softmax_loss:"
       ]
      },
      {
       "output_type": "stream",
       "stream": "stdout",
       "text": [
        "\n",
        "loss:  2.30272266601\n",
        "dx error:  7.55971946534e-09\n"
       ]
      }
     ],
     "prompt_number": 10
    },
    {
     "cell_type": "markdown",
     "metadata": {},
     "source": [
      "# Two-layer network\n",
      "In the previous assignment you implemented a two-layer neural network in a single monolithic class. Now that you have implemented modular versions of the necessary layers, you will reimplement the two layer network using these modular implementations.\n",
      "\n",
      "Open the file `cs231n/classifiers/fc_net.py` and complete the implementation of the `TwoLayerNet` class. This class will serve as a model for the other networks you will implement in this assignment, so read through it to make sure you understand the API. You can run the cell below to test your implementation."
     ]
    },
    {
     "cell_type": "code",
     "collapsed": false,
     "input": [
      "N, D, H, C = 3, 5, 50, 7\n",
      "X = np.random.randn(N, D)\n",
      "y = np.random.randint(C, size=N)\n",
      "\n",
      "std = 1e-2\n",
      "model = TwoLayerNet(input_dim=D, hidden_dim=H, num_classes=C, weight_scale=std)\n",
      "\n",
      "print 'Testing initialization ... '\n",
      "W1_std = abs(model.params['W1'].std() - std)\n",
      "b1 = model.params['b1']\n",
      "W2_std = abs(model.params['W2'].std() - std)\n",
      "b2 = model.params['b2']\n",
      "assert W1_std < std / 10, 'First layer weights do not seem right'\n",
      "assert np.all(b1 == 0), 'First layer biases do not seem right'\n",
      "assert W2_std < std / 10, 'Second layer weights do not seem right'\n",
      "assert np.all(b2 == 0), 'Second layer biases do not seem right'\n",
      "\n",
      "print 'Testing test-time forward pass ... '\n",
      "model.params['W1'] = np.linspace(-0.7, 0.3, num=D*H).reshape(D, H)\n",
      "model.params['b1'] = np.linspace(-0.1, 0.9, num=H)\n",
      "model.params['W2'] = np.linspace(-0.3, 0.4, num=H*C).reshape(H, C)\n",
      "model.params['b2'] = np.linspace(-0.9, 0.1, num=C)\n",
      "X = np.linspace(-5.5, 4.5, num=N*D).reshape(D, N).T\n",
      "scores = model.loss(X)\n",
      "correct_scores = np.asarray(\n",
      "  [[11.53165108,  12.2917344,   13.05181771,  13.81190102,  14.57198434, 15.33206765,  16.09215096],\n",
      "   [12.05769098,  12.74614105,  13.43459113,  14.1230412,   14.81149128, 15.49994135,  16.18839143],\n",
      "   [12.58373087,  13.20054771,  13.81736455,  14.43418138,  15.05099822, 15.66781506,  16.2846319 ]])\n",
      "scores_diff = np.abs(scores - correct_scores).sum()\n",
      "assert scores_diff < 1e-6, 'Problem with test-time forward pass'\n",
      "\n",
      "print 'Testing training loss (no regularization)'\n",
      "y = np.asarray([0, 5, 1])\n",
      "loss, grads = model.loss(X, y)\n",
      "correct_loss = 3.4702243556\n",
      "assert abs(loss - correct_loss) < 1e-10, 'Problem with training-time loss'\n",
      "\n",
      "model.reg = 1.0\n",
      "loss, grads = model.loss(X, y)\n",
      "correct_loss = 26.5948426952\n",
      "assert abs(loss - correct_loss) < 1e-10, 'Problem with regularization loss'\n",
      "\n",
      "for reg in [0.0, 0.7]:\n",
      "  print 'Running numeric gradient check with reg = ', reg\n",
      "  model.reg = reg\n",
      "  loss, grads = model.loss(X, y)\n",
      "\n",
      "  for name in sorted(grads):\n",
      "    f = lambda _: model.loss(X, y)[0]\n",
      "    grad_num = eval_numerical_gradient(f, model.params[name], verbose=False)\n",
      "    print '%s relative error: %.2e' % (name, rel_error(grad_num, grads[name]))"
     ],
     "language": "python",
     "metadata": {},
     "outputs": [
      {
       "output_type": "stream",
       "stream": "stdout",
       "text": [
        "Testing initialization ... \n",
        "Testing test-time forward pass ... \n",
        "Testing training loss (no regularization)\n",
        "Running numeric gradient check with reg =  0.0\n",
        "W1 relative error: 1.83e-08"
       ]
      },
      {
       "output_type": "stream",
       "stream": "stdout",
       "text": [
        "\n",
        "W2 relative error: 3.20e-10"
       ]
      },
      {
       "output_type": "stream",
       "stream": "stdout",
       "text": [
        "\n",
        "b1 relative error: 9.83e-09\n",
        "b2 relative error: 4.33e-10\n",
        "Running numeric gradient check with reg =  0.7\n",
        "W1 relative error: 2.53e-07"
       ]
      },
      {
       "output_type": "stream",
       "stream": "stdout",
       "text": [
        "\n",
        "W2 relative error: 7.98e-08"
       ]
      },
      {
       "output_type": "stream",
       "stream": "stdout",
       "text": [
        "\n",
        "b1 relative error: 1.35e-08\n",
        "b2 relative error: 7.76e-10\n"
       ]
      }
     ],
     "prompt_number": 11
    },
    {
     "cell_type": "markdown",
     "metadata": {},
     "source": [
      "# Solver\n",
      "In the previous assignment, the logic for training models was coupled to the models themselves. Following a more modular design, for this assignment we have split the logic for training models into a separate class.\n",
      "\n",
      "Open the file `cs231n/solver.py` and read through it to familiarize yourself with the API. After doing so, use a `Solver` instance to train a `TwoLayerNet` that achieves at least `50%` accuracy on the validation set."
     ]
    },
    {
     "cell_type": "code",
     "collapsed": false,
     "input": [
      "model = TwoLayerNet()\n",
      "solver = None\n",
      "\n",
      "##############################################################################\n",
      "# TODO: Use a Solver instance to train a TwoLayerNet that achieves at least  #\n",
      "# 50% accuracy on the validation set.                                        #\n",
      "##############################################################################\n",
      "solver = Solver(model, data, update_rule = 'sgd',\n",
      "                optim_config = {'learning_rate':1e-3,},\n",
      "                lr_decay = 0.8, num_epochs = 10, batch_size = 100, print_every = 100)\n",
      "solver.train()\n",
      "scores = model.loss(data['X_test'])\n",
      "y_pred = np.argmax(scores, axis = 1)\n",
      "acc = np.mean(y_pred == data['y_test'])\n",
      "print 'test acc: %f' %(acc)\n",
      "#pass\n",
      "##############################################################################\n",
      "#                             END OF YOUR CODE                               #\n",
      "##############################################################################"
     ],
     "language": "python",
     "metadata": {},
     "outputs": [
      {
       "output_type": "stream",
       "stream": "stdout",
       "text": [
        "(Iteration 1 / 4900) loss: 2.301882\n",
        "(Epoch 0 / 10) train acc: 0.105000; val_acc: 0.146000"
       ]
      },
      {
       "output_type": "stream",
       "stream": "stdout",
       "text": [
        "\n",
        "(Iteration 101 / 4900) loss: 1.849077"
       ]
      },
      {
       "output_type": "stream",
       "stream": "stdout",
       "text": [
        "\n",
        "(Iteration 201 / 4900) loss: 1.678722"
       ]
      },
      {
       "output_type": "stream",
       "stream": "stdout",
       "text": [
        "\n",
        "(Iteration 301 / 4900) loss: 1.803290"
       ]
      },
      {
       "output_type": "stream",
       "stream": "stdout",
       "text": [
        "\n",
        "(Iteration 401 / 4900) loss: 1.869641"
       ]
      },
      {
       "output_type": "stream",
       "stream": "stdout",
       "text": [
        "\n",
        "(Epoch 1 / 10) train acc: 0.489000; val_acc: 0.439000"
       ]
      },
      {
       "output_type": "stream",
       "stream": "stdout",
       "text": [
        "\n",
        "(Iteration 501 / 4900) loss: 1.503871"
       ]
      },
      {
       "output_type": "stream",
       "stream": "stdout",
       "text": [
        "\n",
        "(Iteration 601 / 4900) loss: 1.559598"
       ]
      },
      {
       "output_type": "stream",
       "stream": "stdout",
       "text": [
        "\n",
        "(Iteration 701 / 4900) loss: 1.389820"
       ]
      },
      {
       "output_type": "stream",
       "stream": "stdout",
       "text": [
        "\n",
        "(Iteration 801 / 4900) loss: 1.523529"
       ]
      },
      {
       "output_type": "stream",
       "stream": "stdout",
       "text": [
        "\n",
        "(Iteration 901 / 4900) loss: 1.487455"
       ]
      },
      {
       "output_type": "stream",
       "stream": "stdout",
       "text": [
        "\n",
        "(Epoch 2 / 10) train acc: 0.503000; val_acc: 0.481000"
       ]
      },
      {
       "output_type": "stream",
       "stream": "stdout",
       "text": [
        "\n",
        "(Iteration 1001 / 4900) loss: 1.440936"
       ]
      },
      {
       "output_type": "stream",
       "stream": "stdout",
       "text": [
        "\n",
        "(Iteration 1101 / 4900) loss: 1.262611"
       ]
      },
      {
       "output_type": "stream",
       "stream": "stdout",
       "text": [
        "\n",
        "(Iteration 1201 / 4900) loss: 1.350780"
       ]
      },
      {
       "output_type": "stream",
       "stream": "stdout",
       "text": [
        "\n",
        "(Iteration 1301 / 4900) loss: 1.408995"
       ]
      },
      {
       "output_type": "stream",
       "stream": "stdout",
       "text": [
        "\n",
        "(Iteration 1401 / 4900) loss: 1.430517"
       ]
      },
      {
       "output_type": "stream",
       "stream": "stdout",
       "text": [
        "\n",
        "(Epoch 3 / 10) train acc: 0.529000; val_acc: 0.481000"
       ]
      },
      {
       "output_type": "stream",
       "stream": "stdout",
       "text": [
        "\n",
        "(Iteration 1501 / 4900) loss: 1.320894"
       ]
      },
      {
       "output_type": "stream",
       "stream": "stdout",
       "text": [
        "\n",
        "(Iteration 1601 / 4900) loss: 1.346530"
       ]
      },
      {
       "output_type": "stream",
       "stream": "stdout",
       "text": [
        "\n",
        "(Iteration 1701 / 4900) loss: 1.391062"
       ]
      },
      {
       "output_type": "stream",
       "stream": "stdout",
       "text": [
        "\n",
        "(Iteration 1801 / 4900) loss: 1.314899"
       ]
      },
      {
       "output_type": "stream",
       "stream": "stdout",
       "text": [
        "\n",
        "(Iteration 1901 / 4900) loss: 1.076546"
       ]
      },
      {
       "output_type": "stream",
       "stream": "stdout",
       "text": [
        "\n",
        "(Epoch 4 / 10) train acc: 0.576000; val_acc: 0.503000"
       ]
      },
      {
       "output_type": "stream",
       "stream": "stdout",
       "text": [
        "\n",
        "(Iteration 2001 / 4900) loss: 1.379488"
       ]
      },
      {
       "output_type": "stream",
       "stream": "stdout",
       "text": [
        "\n",
        "(Iteration 2101 / 4900) loss: 1.279581"
       ]
      },
      {
       "output_type": "stream",
       "stream": "stdout",
       "text": [
        "\n",
        "(Iteration 2201 / 4900) loss: 1.121316"
       ]
      },
      {
       "output_type": "stream",
       "stream": "stdout",
       "text": [
        "\n",
        "(Iteration 2301 / 4900) loss: 1.289752"
       ]
      },
      {
       "output_type": "stream",
       "stream": "stdout",
       "text": [
        "\n",
        "(Iteration 2401 / 4900) loss: 1.248005"
       ]
      },
      {
       "output_type": "stream",
       "stream": "stdout",
       "text": [
        "\n",
        "(Epoch 5 / 10) train acc: 0.556000; val_acc: 0.517000"
       ]
      },
      {
       "output_type": "stream",
       "stream": "stdout",
       "text": [
        "\n",
        "(Iteration 2501 / 4900) loss: 1.058466"
       ]
      },
      {
       "output_type": "stream",
       "stream": "stdout",
       "text": [
        "\n",
        "(Iteration 2601 / 4900) loss: 1.069647"
       ]
      },
      {
       "output_type": "stream",
       "stream": "stdout",
       "text": [
        "\n",
        "(Iteration 2701 / 4900) loss: 1.261643"
       ]
      },
      {
       "output_type": "stream",
       "stream": "stdout",
       "text": [
        "\n",
        "(Iteration 2801 / 4900) loss: 1.167328"
       ]
      },
      {
       "output_type": "stream",
       "stream": "stdout",
       "text": [
        "\n",
        "(Iteration 2901 / 4900) loss: 1.204247"
       ]
      },
      {
       "output_type": "stream",
       "stream": "stdout",
       "text": [
        "\n",
        "(Epoch 6 / 10) train acc: 0.586000; val_acc: 0.527000"
       ]
      },
      {
       "output_type": "stream",
       "stream": "stdout",
       "text": [
        "\n",
        "(Iteration 3001 / 4900) loss: 1.071009"
       ]
      },
      {
       "output_type": "stream",
       "stream": "stdout",
       "text": [
        "\n",
        "(Iteration 3101 / 4900) loss: 1.056292"
       ]
      },
      {
       "output_type": "stream",
       "stream": "stdout",
       "text": [
        "\n",
        "(Iteration 3201 / 4900) loss: 1.195537"
       ]
      },
      {
       "output_type": "stream",
       "stream": "stdout",
       "text": [
        "\n",
        "(Iteration 3301 / 4900) loss: 1.066676"
       ]
      },
      {
       "output_type": "stream",
       "stream": "stdout",
       "text": [
        "\n",
        "(Iteration 3401 / 4900) loss: 1.190325"
       ]
      },
      {
       "output_type": "stream",
       "stream": "stdout",
       "text": [
        "\n",
        "(Epoch 7 / 10) train acc: 0.622000; val_acc: 0.532000"
       ]
      },
      {
       "output_type": "stream",
       "stream": "stdout",
       "text": [
        "\n",
        "(Iteration 3501 / 4900) loss: 1.159860"
       ]
      },
      {
       "output_type": "stream",
       "stream": "stdout",
       "text": [
        "\n",
        "(Iteration 3601 / 4900) loss: 1.291241"
       ]
      },
      {
       "output_type": "stream",
       "stream": "stdout",
       "text": [
        "\n",
        "(Iteration 3701 / 4900) loss: 1.122233"
       ]
      },
      {
       "output_type": "stream",
       "stream": "stdout",
       "text": [
        "\n",
        "(Iteration 3801 / 4900) loss: 1.055367"
       ]
      },
      {
       "output_type": "stream",
       "stream": "stdout",
       "text": [
        "\n",
        "(Iteration 3901 / 4900) loss: 1.179751"
       ]
      },
      {
       "output_type": "stream",
       "stream": "stdout",
       "text": [
        "\n",
        "(Epoch 8 / 10) train acc: 0.619000; val_acc: 0.536000"
       ]
      },
      {
       "output_type": "stream",
       "stream": "stdout",
       "text": [
        "\n",
        "(Iteration 4001 / 4900) loss: 1.143343"
       ]
      },
      {
       "output_type": "stream",
       "stream": "stdout",
       "text": [
        "\n",
        "(Iteration 4101 / 4900) loss: 1.280336"
       ]
      },
      {
       "output_type": "stream",
       "stream": "stdout",
       "text": [
        "\n",
        "(Iteration 4201 / 4900) loss: 1.221308"
       ]
      },
      {
       "output_type": "stream",
       "stream": "stdout",
       "text": [
        "\n",
        "(Iteration 4301 / 4900) loss: 1.248411"
       ]
      },
      {
       "output_type": "stream",
       "stream": "stdout",
       "text": [
        "\n",
        "(Iteration 4401 / 4900) loss: 1.090761"
       ]
      },
      {
       "output_type": "stream",
       "stream": "stdout",
       "text": [
        "\n",
        "(Epoch 9 / 10) train acc: 0.636000; val_acc: 0.532000"
       ]
      },
      {
       "output_type": "stream",
       "stream": "stdout",
       "text": [
        "\n",
        "(Iteration 4501 / 4900) loss: 1.121951"
       ]
      },
      {
       "output_type": "stream",
       "stream": "stdout",
       "text": [
        "\n",
        "(Iteration 4601 / 4900) loss: 1.108936"
       ]
      },
      {
       "output_type": "stream",
       "stream": "stdout",
       "text": [
        "\n",
        "(Iteration 4701 / 4900) loss: 0.973800"
       ]
      },
      {
       "output_type": "stream",
       "stream": "stdout",
       "text": [
        "\n",
        "(Iteration 4801 / 4900) loss: 1.124427"
       ]
      },
      {
       "output_type": "stream",
       "stream": "stdout",
       "text": [
        "\n",
        "(Epoch 10 / 10) train acc: 0.626000; val_acc: 0.521000"
       ]
      },
      {
       "output_type": "stream",
       "stream": "stdout",
       "text": [
        "\n",
        "test acc: 0.533000\n"
       ]
      }
     ],
     "prompt_number": 17
    },
    {
     "cell_type": "code",
     "collapsed": false,
     "input": [
      "# Run this cell to visualize training loss and train / val accuracy\n",
      "\n",
      "plt.subplot(2, 1, 1)\n",
      "plt.title('Training loss')\n",
      "plt.plot(solver.loss_history, 'o')\n",
      "plt.xlabel('Iteration')\n",
      "\n",
      "plt.subplot(2, 1, 2)\n",
      "plt.title('Accuracy')\n",
      "plt.plot(solver.train_acc_history, '-o', label='train')\n",
      "plt.plot(solver.val_acc_history, '-o', label='val')\n",
      "plt.plot([0.5] * len(solver.val_acc_history), 'k--')\n",
      "plt.xlabel('Epoch')\n",
      "plt.legend(loc='lower right')\n",
      "plt.gcf().set_size_inches(15, 12)\n",
      "plt.show()"
     ],
     "language": "python",
     "metadata": {},
     "outputs": [
      {
       "metadata": {},
       "output_type": "display_data",
       "png": "[encoded data removed]",
       "text": [
        "<matplotlib.figure.Figure at 0x7fed8ecdd1d0>"
       ]
      }
     ],
     "prompt_number": 18
    },
    {
     "cell_type": "markdown",
     "metadata": {},
     "source": [
      "# Multilayer network\n",
      "Next you will implement a fully-connected network with an arbitrary number of hidden layers.\n",
      "\n",
      "Read through the `FullyConnectedNet` class in the file `cs231n/classifiers/fc_net.py`.\n",
      "\n",
      "Implement the initialization, the forward pass, and the backward pass. For the moment don't worry about implementing dropout or batch normalization; we will add those features soon."
     ]
    },
    {
     "cell_type": "heading",
     "level": 2,
     "metadata": {},
     "source": [
      "Initial loss and gradient check"
     ]
    },
    {
     "cell_type": "markdown",
     "metadata": {},
     "source": [
      "As a sanity check, run the following to check the initial loss and to gradient check the network both with and without regularization. Do the initial losses seem reasonable?\n",
      "\n",
      "For gradient checking, you should expect to see errors around 1e-6 or less."
     ]
    },
    {
     "cell_type": "code",
     "collapsed": false,
     "input": [
      "N, D, H1, H2, C = 2, 15, 20, 30, 10\n",
      "X = np.random.randn(N, D)\n",
      "y = np.random.randint(C, size=(N,))\n",
      "\n",
      "for reg in [0, 3.14]:\n",
      "  print 'Running check with reg = ', reg\n",
      "  model = FullyConnectedNet([H1, H2], input_dim=D, num_classes=C,\n",
      "                            reg=reg, weight_scale=5e-2, dtype=np.float64)\n",
      "\n",
      "  loss, grads = model.loss(X, y)\n",
      "  print 'Initial loss: ', loss\n",
      "\n",
      "  for name in sorted(grads):\n",
      "    f = lambda _: model.loss(X, y)[0]\n",
      "    grad_num = eval_numerical_gradient(f, model.params[name], verbose=False, h=1e-5)\n",
      "    print '%s relative error: %.2e' % (name, rel_error(grad_num, grads[name]))"
     ],
     "language": "python",
     "metadata": {},
     "outputs": [
      {
       "output_type": "stream",
       "stream": "stdout",
       "text": [
        "Running check with reg =  0\n",
        "Initial loss:  2.30469264362\n",
        "W1 relative error: 1.41e-07"
       ]
      },
      {
       "output_type": "stream",
       "stream": "stdout",
       "text": [
        "\n",
        "W2 relative error: 1.46e-06"
       ]
      },
      {
       "output_type": "stream",
       "stream": "stdout",
       "text": [
        "\n",
        "W3 relative error: 7.36e-07"
       ]
      },
      {
       "output_type": "stream",
       "stream": "stdout",
       "text": [
        "\n",
        "b1 relative error: 7.91e-09\n",
        "b2 relative error: 2.30e-09\n",
        "b3 relative error: 1.14e-10\n",
        "Running check with reg =  3.14\n",
        "Initial loss:  7.20097873565\n",
        "W1 relative error: 3.58e-08"
       ]
      },
      {
       "output_type": "stream",
       "stream": "stdout",
       "text": [
        "\n",
        "W2 relative error: 6.97e-08"
       ]
      },
      {
       "output_type": "stream",
       "stream": "stdout",
       "text": [
        "\n",
        "W3 relative error: 8.35e-09"
       ]
      },
      {
       "output_type": "stream",
       "stream": "stdout",
       "text": [
        "\n",
        "b1 relative error: 7.00e-08\n",
        "b2 relative error: 8.37e-09\n",
        "b3 relative error: 3.64e-10\n"
       ]
      }
     ],
     "prompt_number": 22
    },
    {
     "cell_type": "markdown",
     "metadata": {},
     "source": [
      "As another sanity check, make sure you can overfit a small dataset of 50 images. First we will try a three-layer network with 100 units in each hidden layer. You will need to tweak the learning rate and initialization scale, but you should be able to overfit and achieve 100% training accuracy within 20 epochs."
     ]
    },
    {
     "cell_type": "code",
     "collapsed": false,
     "input": [
      "# TODO: Use a three-layer Net to overfit 50 training examples.\n",
      "\n",
      "num_train = 50\n",
      "small_data = {\n",
      "  'X_train': data['X_train'][:num_train],\n",
      "  'y_train': data['y_train'][:num_train],\n",
      "  'X_val': data['X_val'],\n",
      "  'y_val': data['y_val'],\n",
      "}\n",
      "\n",
      "weight_scale = 1e-2\n",
      "learning_rate = 1e-4\n",
      "model = FullyConnectedNet([100, 100],\n",
      "              weight_scale=weight_scale, dtype=np.float64)\n",
      "solver = Solver(model, small_data,\n",
      "                print_every=10, num_epochs=20, batch_size=25,\n",
      "                update_rule='sgd',\n",
      "                optim_config={\n",
      "                  'learning_rate': learning_rate,\n",
      "                }\n",
      "         )\n",
      "solver.train()\n",
      "\n",
      "plt.plot(solver.loss_history, 'o')\n",
      "plt.title('Training loss history')\n",
      "plt.xlabel('Iteration')\n",
      "plt.ylabel('Training loss')\n",
      "plt.show()"
     ],
     "language": "python",
     "metadata": {
      "scrolled": false
     },
     "outputs": [
      {
       "output_type": "stream",
       "stream": "stdout",
       "text": [
        "(Iteration 1 / 40) loss: 2.282682\n",
        "(Epoch 0 / 20) train acc: 0.160000; val_acc: 0.098000"
       ]
      },
      {
       "output_type": "stream",
       "stream": "stdout",
       "text": [
        "\n",
        "(Epoch 1 / 20) train acc: 0.160000; val_acc: 0.099000"
       ]
      },
      {
       "output_type": "stream",
       "stream": "stdout",
       "text": [
        "\n",
        "(Epoch 2 / 20) train acc: 0.160000; val_acc: 0.100000"
       ]
      },
      {
       "output_type": "stream",
       "stream": "stdout",
       "text": [
        "\n",
        "(Epoch 3 / 20) train acc: 0.160000; val_acc: 0.104000"
       ]
      },
      {
       "output_type": "stream",
       "stream": "stdout",
       "text": [
        "\n",
        "(Epoch 4 / 20) train acc: 0.160000; val_acc: 0.102000"
       ]
      },
      {
       "output_type": "stream",
       "stream": "stdout",
       "text": [
        "\n",
        "(Epoch 5 / 20) train acc: 0.180000; val_acc: 0.107000"
       ]
      },
      {
       "output_type": "stream",
       "stream": "stdout",
       "text": [
        "\n",
        "(Iteration 11 / 40) loss: 2.272428\n",
        "(Epoch 6 / 20) train acc: 0.180000; val_acc: 0.106000"
       ]
      },
      {
       "output_type": "stream",
       "stream": "stdout",
       "text": [
        "\n",
        "(Epoch 7 / 20) train acc: 0.180000; val_acc: 0.106000"
       ]
      },
      {
       "output_type": "stream",
       "stream": "stdout",
       "text": [
        "\n",
        "(Epoch 8 / 20) train acc: 0.180000; val_acc: 0.105000"
       ]
      },
      {
       "output_type": "stream",
       "stream": "stdout",
       "text": [
        "\n",
        "(Epoch 9 / 20) train acc: 0.180000; val_acc: 0.105000"
       ]
      },
      {
       "output_type": "stream",
       "stream": "stdout",
       "text": [
        "\n",
        "(Epoch 10 / 20) train acc: 0.180000; val_acc: 0.104000"
       ]
      },
      {
       "output_type": "stream",
       "stream": "stdout",
       "text": [
        "\n",
        "(Iteration 21 / 40) loss: 2.271546\n",
        "(Epoch 11 / 20) train acc: 0.180000; val_acc: 0.104000"
       ]
      },
      {
       "output_type": "stream",
       "stream": "stdout",
       "text": [
        "\n",
        "(Epoch 12 / 20) train acc: 0.180000; val_acc: 0.104000"
       ]
      },
      {
       "output_type": "stream",
       "stream": "stdout",
       "text": [
        "\n",
        "(Epoch 13 / 20) train acc: 0.180000; val_acc: 0.105000"
       ]
      },
      {
       "output_type": "stream",
       "stream": "stdout",
       "text": [
        "\n",
        "(Epoch 14 / 20) train acc: 0.200000; val_acc: 0.104000"
       ]
      },
      {
       "output_type": "stream",
       "stream": "stdout",
       "text": [
        "\n",
        "(Epoch 15 / 20) train acc: 0.200000; val_acc: 0.105000"
       ]
      },
      {
       "output_type": "stream",
       "stream": "stdout",
       "text": [
        "\n",
        "(Iteration 31 / 40) loss: 2.235439\n",
        "(Epoch 16 / 20) train acc: 0.200000; val_acc: 0.100000"
       ]
      },
      {
       "output_type": "stream",
       "stream": "stdout",
       "text": [
        "\n",
        "(Epoch 17 / 20) train acc: 0.200000; val_acc: 0.102000"
       ]
      },
      {
       "output_type": "stream",
       "stream": "stdout",
       "text": [
        "\n",
        "(Epoch 18 / 20) train acc: 0.200000; val_acc: 0.102000"
       ]
      },
      {
       "output_type": "stream",
       "stream": "stdout",
       "text": [
        "\n",
        "(Epoch 19 / 20) train acc: 0.180000; val_acc: 0.101000"
       ]
      },
      {
       "output_type": "stream",
       "stream": "stdout",
       "text": [
        "\n",
        "(Epoch 20 / 20) train acc: 0.200000; val_acc: 0.101000"
       ]
      },
      {
       "output_type": "stream",
       "stream": "stdout",
       "text": [
        "\n"
       ]
      },
      {
       "metadata": {},
       "output_type": "display_data",
       "png": "[encoded data removed]",
       "text": [
        "<matplotlib.figure.Figure at 0x7fed8c210c50>"
       ]
      }
     ],
     "prompt_number": 24
    },
    {
     "cell_type": "markdown",
     "metadata": {},
     "source": [
      "Now try to use a five-layer network with 100 units on each layer to overfit 50 training examples. Again you will have to adjust the learning rate and weight initialization, but you should be able to achieve 100% training accuracy within 20 epochs."
     ]
    },
    {
     "cell_type": "code",
     "collapsed": false,
     "input": [
      "# TODO: Use a five-layer Net to overfit 50 training examples.\n",
      "\n",
      "num_train = 50\n",
      "small_data = {\n",
      "  'X_train': data['X_train'][:num_train],\n",
      "  'y_train': data['y_train'][:num_train],\n",
      "  'X_val': data['X_val'],\n",
      "  'y_val': data['y_val'],\n",
      "}\n",
      "\n",
      "learning_rate = 1e-3\n",
      "weight_scale = 1e-5\n",
      "model = FullyConnectedNet([100, 100, 100, 100],\n",
      "                weight_scale=weight_scale, dtype=np.float64)\n",
      "solver = Solver(model, small_data,\n",
      "                print_every=10, num_epochs=20, batch_size=25,\n",
      "                update_rule='sgd',\n",
      "                optim_config={\n",
      "                  'learning_rate': learning_rate,\n",
      "                }\n",
      "         )\n",
      "solver.train()\n",
      "\n",
      "plt.plot(solver.loss_history, 'o')\n",
      "plt.title('Training loss history')\n",
      "plt.xlabel('Iteration')\n",
      "plt.ylabel('Training loss')\n",
      "plt.show()"
     ],
     "language": "python",
     "metadata": {},
     "outputs": [
      {
       "output_type": "stream",
       "stream": "stdout",
       "text": [
        "(Iteration 1 / 40) loss: 2.302585\n",
        "(Epoch 0 / 20) train acc: 0.160000; val_acc: 0.079000"
       ]
      },
      {
       "output_type": "stream",
       "stream": "stdout",
       "text": [
        "\n",
        "(Epoch 1 / 20) train acc: 0.160000; val_acc: 0.112000"
       ]
      },
      {
       "output_type": "stream",
       "stream": "stdout",
       "text": [
        "\n",
        "(Epoch 2 / 20) train acc: 0.160000; val_acc: 0.079000"
       ]
      },
      {
       "output_type": "stream",
       "stream": "stdout",
       "text": [
        "\n",
        "(Epoch 3 / 20) train acc: 0.160000; val_acc: 0.112000"
       ]
      },
      {
       "output_type": "stream",
       "stream": "stdout",
       "text": [
        "\n",
        "(Epoch 4 / 20) train acc: 0.160000; val_acc: 0.112000"
       ]
      },
      {
       "output_type": "stream",
       "stream": "stdout",
       "text": [
        "\n",
        "(Epoch 5 / 20) train acc: 0.160000; val_acc: 0.112000"
       ]
      },
      {
       "output_type": "stream",
       "stream": "stdout",
       "text": [
        "\n",
        "(Iteration 11 / 40) loss: 2.302377\n",
        "(Epoch 6 / 20) train acc: 0.160000; val_acc: 0.112000"
       ]
      },
      {
       "output_type": "stream",
       "stream": "stdout",
       "text": [
        "\n",
        "(Epoch 7 / 20) train acc: 0.160000; val_acc: 0.112000"
       ]
      },
      {
       "output_type": "stream",
       "stream": "stdout",
       "text": [
        "\n",
        "(Epoch 8 / 20) train acc: 0.160000; val_acc: 0.112000"
       ]
      },
      {
       "output_type": "stream",
       "stream": "stdout",
       "text": [
        "\n",
        "(Epoch 9 / 20) train acc: 0.160000; val_acc: 0.112000"
       ]
      },
      {
       "output_type": "stream",
       "stream": "stdout",
       "text": [
        "\n",
        "(Epoch 10 / 20) train acc: 0.160000; val_acc: 0.112000"
       ]
      },
      {
       "output_type": "stream",
       "stream": "stdout",
       "text": [
        "\n",
        "(Iteration 21 / 40) loss: 2.302171\n",
        "(Epoch 11 / 20) train acc: 0.160000; val_acc: 0.112000"
       ]
      },
      {
       "output_type": "stream",
       "stream": "stdout",
       "text": [
        "\n",
        "(Epoch 12 / 20) train acc: 0.160000; val_acc: 0.112000"
       ]
      },
      {
       "output_type": "stream",
       "stream": "stdout",
       "text": [
        "\n",
        "(Epoch 13 / 20) train acc: 0.160000; val_acc: 0.112000"
       ]
      },
      {
       "output_type": "stream",
       "stream": "stdout",
       "text": [
        "\n",
        "(Epoch 14 / 20) train acc: 0.160000; val_acc: 0.112000"
       ]
      },
      {
       "output_type": "stream",
       "stream": "stdout",
       "text": [
        "\n",
        "(Epoch 15 / 20) train acc: 0.160000; val_acc: 0.112000"
       ]
      },
      {
       "output_type": "stream",
       "stream": "stdout",
       "text": [
        "\n",
        "(Iteration 31 / 40) loss: 2.302314\n",
        "(Epoch 16 / 20) train acc: 0.160000; val_acc: 0.112000"
       ]
      },
      {
       "output_type": "stream",
       "stream": "stdout",
       "text": [
        "\n",
        "(Epoch 17 / 20) train acc: 0.160000; val_acc: 0.112000"
       ]
      },
      {
       "output_type": "stream",
       "stream": "stdout",
       "text": [
        "\n",
        "(Epoch 18 / 20) train acc: 0.160000; val_acc: 0.112000"
       ]
      },
      {
       "output_type": "stream",
       "stream": "stdout",
       "text": [
        "\n",
        "(Epoch 19 / 20) train acc: 0.160000; val_acc: 0.112000"
       ]
      },
      {
       "output_type": "stream",
       "stream": "stdout",
       "text": [
        "\n",
        "(Epoch 20 / 20) train acc: 0.160000; val_acc: 0.112000"
       ]
      },
      {
       "output_type": "stream",
       "stream": "stdout",
       "text": [
        "\n"
       ]
      },
      {
       "metadata": {},
       "output_type": "display_data",
       "png": "[encoded data removed]",
       "text": [
        "<matplotlib.figure.Figure at 0x7fed8cab5590>"
       ]
      }
     ],
     "prompt_number": 25
    },
    {
     "cell_type": "markdown",
     "metadata": {},
     "source": [
      "# Inline question: \n",
      "Did you notice anything about the comparative difficulty of training the three-layer net vs training the five layer net?\n",
      "\n",
      "# Answer:\n",
      "[FILL THIS IN]\n"
     ]
    },
    {
     "cell_type": "markdown",
     "metadata": {},
     "source": [
      "# Update rules\n",
      "So far we have used vanilla stochastic gradient descent (SGD) as our update rule. More sophisticated update rules can make it easier to train deep networks. We will implement a few of the most commonly used update rules and compare them to vanilla SGD."
     ]
    },
    {
     "cell_type": "markdown",
     "metadata": {},
     "source": [
      "# SGD+Momentum\n",
      "Stochastic gradient descent with momentum is a widely used update rule that tends to make deep networks converge faster than vanilla stochstic gradient descent.\n",
      "\n",
      "Open the file `cs231n/optim.py` and read the documentation at the top of the file to make sure you understand the API. Implement the SGD+momentum update rule in the function `sgd_momentum` and run the following to check your implementation. You should see errors less than 1e-8."
     ]
    },
    {
     "cell_type": "code",
     "collapsed": false,
     "input": [
      "from cs231n.optim import sgd_momentum\n",
      "\n",
      "N, D = 4, 5\n",
      "w = np.linspace(-0.4, 0.6, num=N*D).reshape(N, D)\n",
      "dw = np.linspace(-0.6, 0.4, num=N*D).reshape(N, D)\n",
      "v = np.linspace(0.6, 0.9, num=N*D).reshape(N, D)\n",
      "\n",
      "config = {'learning_rate': 1e-3, 'velocity': v}\n",
      "next_w, _ = sgd_momentum(w, dw, config=config)\n",
      "\n",
      "expected_next_w = np.asarray([\n",
      "  [ 0.1406,      0.20738947,  0.27417895,  0.34096842,  0.40775789],\n",
      "  [ 0.47454737,  0.54133684,  0.60812632,  0.67491579,  0.74170526],\n",
      "  [ 0.80849474,  0.87528421,  0.94207368,  1.00886316,  1.07565263],\n",
      "  [ 1.14244211,  1.20923158,  1.27602105,  1.34281053,  1.4096    ]])\n",
      "expected_velocity = np.asarray([\n",
      "  [ 0.5406,      0.55475789,  0.56891579, 0.58307368,  0.59723158],\n",
      "  [ 0.61138947,  0.62554737,  0.63970526,  0.65386316,  0.66802105],\n",
      "  [ 0.68217895,  0.69633684,  0.71049474,  0.72465263,  0.73881053],\n",
      "  [ 0.75296842,  0.76712632,  0.78128421,  0.79544211,  0.8096    ]])\n",
      "\n",
      "print 'next_w error: ', rel_error(next_w, expected_next_w)\n",
      "print 'velocity error: ', rel_error(expected_velocity, config['velocity'])"
     ],
     "language": "python",
     "metadata": {},
     "outputs": [
      {
       "output_type": "stream",
       "stream": "stdout",
       "text": [
        "next_w error:  8.88234703351e-09\n",
        "velocity error:  4.26928774328e-09\n"
       ]
      }
     ],
     "prompt_number": 26
    },
    {
     "cell_type": "markdown",
     "metadata": {},
     "source": [
      "Once you have done so, run the following to train a six-layer network with both SGD and SGD+momentum. You should see the SGD+momentum update rule converge faster."
     ]
    },
    {
     "cell_type": "code",
     "collapsed": false,
     "input": [
      "num_train = 4000\n",
      "small_data = {\n",
      "  'X_train': data['X_train'][:num_train],\n",
      "  'y_train': data['y_train'][:num_train],\n",
      "  'X_val': data['X_val'],\n",
      "  'y_val': data['y_val'],\n",
      "}\n",
      "\n",
      "solvers = {}\n",
      "\n",
      "for update_rule in ['sgd', 'sgd_momentum']:\n",
      "  print 'running with ', update_rule\n",
      "  model = FullyConnectedNet([100, 100, 100, 100, 100], weight_scale=5e-2)\n",
      "\n",
      "  solver = Solver(model, small_data,\n",
      "                  num_epochs=5, batch_size=100,\n",
      "                  update_rule=update_rule,\n",
      "                  optim_config={\n",
      "                    'learning_rate': 1e-2,\n",
      "                  },\n",
      "                  verbose=True)\n",
      "  solvers[update_rule] = solver\n",
      "  solver.train()\n",
      "  print\n",
      "\n",
      "plt.subplot(3, 1, 1)\n",
      "plt.title('Training loss')\n",
      "plt.xlabel('Iteration')\n",
      "\n",
      "plt.subplot(3, 1, 2)\n",
      "plt.title('Training accuracy')\n",
      "plt.xlabel('Epoch')\n",
      "\n",
      "plt.subplot(3, 1, 3)\n",
      "plt.title('Validation accuracy')\n",
      "plt.xlabel('Epoch')\n",
      "\n",
      "for update_rule, solver in solvers.iteritems():\n",
      "  plt.subplot(3, 1, 1)\n",
      "  plt.plot(solver.loss_history, 'o', label=update_rule)\n",
      "  \n",
      "  plt.subplot(3, 1, 2)\n",
      "  plt.plot(solver.train_acc_history, '-o', label=update_rule)\n",
      "\n",
      "  plt.subplot(3, 1, 3)\n",
      "  plt.plot(solver.val_acc_history, '-o', label=update_rule)\n",
      "  \n",
      "for i in [1, 2, 3]:\n",
      "  plt.subplot(3, 1, i)\n",
      "  plt.legend(loc='upper center', ncol=4)\n",
      "plt.gcf().set_size_inches(15, 15)\n",
      "plt.show()"
     ],
     "language": "python",
     "metadata": {
      "scrolled": false
     },
     "outputs": [
      {
       "output_type": "stream",
       "stream": "stdout",
       "text": [
        "running with  sgd\n",
        "(Iteration 1 / 200) loss: 2.517600"
       ]
      },
      {
       "output_type": "stream",
       "stream": "stdout",
       "text": [
        "\n",
        "(Epoch 0 / 5) train acc: 0.112000; val_acc: 0.117000"
       ]
      },
      {
       "output_type": "stream",
       "stream": "stdout",
       "text": [
        "\n",
        "(Iteration 11 / 200) loss: 2.247746"
       ]
      },
      {
       "output_type": "stream",
       "stream": "stdout",
       "text": [
        "\n",
        "(Iteration 21 / 200) loss: 2.212072"
       ]
      },
      {
       "output_type": "stream",
       "stream": "stdout",
       "text": [
        "\n",
        "(Iteration 31 / 200) loss: 2.044636"
       ]
      },
      {
       "output_type": "stream",
       "stream": "stdout",
       "text": [
        "\n",
        "(Epoch 1 / 5) train acc: 0.259000; val_acc: 0.226000"
       ]
      },
      {
       "output_type": "stream",
       "stream": "stdout",
       "text": [
        "\n",
        "(Iteration 41 / 200) loss: 2.092455\n",
        "(Iteration 51 / 200) loss: 2.065853"
       ]
      },
      {
       "output_type": "stream",
       "stream": "stdout",
       "text": [
        "\n",
        "(Iteration 61 / 200) loss: 1.875924"
       ]
      },
      {
       "output_type": "stream",
       "stream": "stdout",
       "text": [
        "\n",
        "(Iteration 71 / 200) loss: 1.975332"
       ]
      },
      {
       "output_type": "stream",
       "stream": "stdout",
       "text": [
        "\n",
        "(Epoch 2 / 5) train acc: 0.325000; val_acc: 0.288000"
       ]
      },
      {
       "output_type": "stream",
       "stream": "stdout",
       "text": [
        "\n",
        "(Iteration 81 / 200) loss: 1.967994\n",
        "(Iteration 91 / 200) loss: 1.879863"
       ]
      },
      {
       "output_type": "stream",
       "stream": "stdout",
       "text": [
        "\n",
        "(Iteration 101 / 200) loss: 1.814840"
       ]
      },
      {
       "output_type": "stream",
       "stream": "stdout",
       "text": [
        "\n",
        "(Iteration 111 / 200) loss: 1.918346"
       ]
      },
      {
       "output_type": "stream",
       "stream": "stdout",
       "text": [
        "\n",
        "(Epoch 3 / 5) train acc: 0.361000; val_acc: 0.275000"
       ]
      },
      {
       "output_type": "stream",
       "stream": "stdout",
       "text": [
        "\n",
        "(Iteration 121 / 200) loss: 1.538224\n",
        "(Iteration 131 / 200) loss: 1.833483"
       ]
      },
      {
       "output_type": "stream",
       "stream": "stdout",
       "text": [
        "\n",
        "(Iteration 141 / 200) loss: 1.781004"
       ]
      },
      {
       "output_type": "stream",
       "stream": "stdout",
       "text": [
        "\n",
        "(Iteration 151 / 200) loss: 1.639731"
       ]
      },
      {
       "output_type": "stream",
       "stream": "stdout",
       "text": [
        "\n",
        "(Epoch 4 / 5) train acc: 0.372000; val_acc: 0.324000"
       ]
      },
      {
       "output_type": "stream",
       "stream": "stdout",
       "text": [
        "\n",
        "(Iteration 161 / 200) loss: 1.866544\n",
        "(Iteration 171 / 200) loss: 1.607297"
       ]
      },
      {
       "output_type": "stream",
       "stream": "stdout",
       "text": [
        "\n",
        "(Iteration 181 / 200) loss: 1.814413"
       ]
      },
      {
       "output_type": "stream",
       "stream": "stdout",
       "text": [
        "\n",
        "(Iteration 191 / 200) loss: 1.740455"
       ]
      },
      {
       "output_type": "stream",
       "stream": "stdout",
       "text": [
        "\n",
        "(Epoch 5 / 5) train acc: 0.443000; val_acc: 0.318000"
       ]
      },
      {
       "output_type": "stream",
       "stream": "stdout",
       "text": [
        "\n",
        "\n",
        "running with  sgd_momentum\n",
        "(Iteration 1 / 200) loss: 2.825839\n",
        "(Epoch 0 / 5) train acc: 0.119000; val_acc: 0.094000"
       ]
      },
      {
       "output_type": "stream",
       "stream": "stdout",
       "text": [
        "\n",
        "(Iteration 11 / 200) loss: 2.144189"
       ]
      },
      {
       "output_type": "stream",
       "stream": "stdout",
       "text": [
        "\n",
        "(Iteration 21 / 200) loss: 2.152146"
       ]
      },
      {
       "output_type": "stream",
       "stream": "stdout",
       "text": [
        "\n",
        "(Iteration 31 / 200) loss: 1.840314"
       ]
      },
      {
       "output_type": "stream",
       "stream": "stdout",
       "text": [
        "\n",
        "(Epoch 1 / 5) train acc: 0.298000; val_acc: 0.275000"
       ]
      },
      {
       "output_type": "stream",
       "stream": "stdout",
       "text": [
        "\n",
        "(Iteration 41 / 200) loss: 1.698224\n",
        "(Iteration 51 / 200) loss: 1.826497"
       ]
      },
      {
       "output_type": "stream",
       "stream": "stdout",
       "text": [
        "\n",
        "(Iteration 61 / 200) loss: 1.739047"
       ]
      },
      {
       "output_type": "stream",
       "stream": "stdout",
       "text": [
        "\n",
        "(Iteration 71 / 200) loss: 1.676849"
       ]
      },
      {
       "output_type": "stream",
       "stream": "stdout",
       "text": [
        "\n",
        "(Epoch 2 / 5) train acc: 0.428000; val_acc: 0.347000"
       ]
      },
      {
       "output_type": "stream",
       "stream": "stdout",
       "text": [
        "\n",
        "(Iteration 81 / 200) loss: 1.672518\n",
        "(Iteration 91 / 200) loss: 1.493424"
       ]
      },
      {
       "output_type": "stream",
       "stream": "stdout",
       "text": [
        "\n",
        "(Iteration 101 / 200) loss: 1.737667"
       ]
      },
      {
       "output_type": "stream",
       "stream": "stdout",
       "text": [
        "\n",
        "(Iteration 111 / 200) loss: 1.498362"
       ]
      },
      {
       "output_type": "stream",
       "stream": "stdout",
       "text": [
        "\n",
        "(Epoch 3 / 5) train acc: 0.450000; val_acc: 0.341000"
       ]
      },
      {
       "output_type": "stream",
       "stream": "stdout",
       "text": [
        "\n",
        "(Iteration 121 / 200) loss: 1.502673\n",
        "(Iteration 131 / 200) loss: 1.650970"
       ]
      },
      {
       "output_type": "stream",
       "stream": "stdout",
       "text": [
        "\n",
        "(Iteration 141 / 200) loss: 1.672790"
       ]
      },
      {
       "output_type": "stream",
       "stream": "stdout",
       "text": [
        "\n",
        "(Iteration 151 / 200) loss: 1.732553"
       ]
      },
      {
       "output_type": "stream",
       "stream": "stdout",
       "text": [
        "\n",
        "(Epoch 4 / 5) train acc: 0.461000; val_acc: 0.342000"
       ]
      },
      {
       "output_type": "stream",
       "stream": "stdout",
       "text": [
        "\n",
        "(Iteration 161 / 200) loss: 1.540719\n",
        "(Iteration 171 / 200) loss: 1.473212"
       ]
      },
      {
       "output_type": "stream",
       "stream": "stdout",
       "text": [
        "\n",
        "(Iteration 181 / 200) loss: 1.221834"
       ]
      },
      {
       "output_type": "stream",
       "stream": "stdout",
       "text": [
        "\n",
        "(Iteration 191 / 200) loss: 1.365354"
       ]
      },
      {
       "output_type": "stream",
       "stream": "stdout",
       "text": [
        "\n",
        "(Epoch 5 / 5) train acc: 0.558000; val_acc: 0.359000"
       ]
      },
      {
       "output_type": "stream",
       "stream": "stdout",
       "text": [
        "\n",
        "\n"
       ]
      },
      {
       "metadata": {},
       "output_type": "display_data",
       "png": "[encoded data removed]",
       "text": [
        "<matplotlib.figure.Figure at 0x7fed8cbed290>"
       ]
      }
     ],
     "prompt_number": 27
    },
    {
     "cell_type": "markdown",
     "metadata": {},
     "source": [
      "# RMSProp and Adam\n",
      "RMSProp [1] and Adam [2] are update rules that set per-parameter learning rates by using a running average of the second moments of gradients.\n",
      "\n",
      "In the file `cs231n/optim.py`, implement the RMSProp update rule in the `rmsprop` function and implement the Adam update rule in the `adam` function, and check your implementations using the tests below.\n",
      "\n",
      "[1] Tijmen Tieleman and Geoffrey Hinton. \"Lecture 6.5-rmsprop: Divide the gradient by a running average of its recent magnitude.\" COURSERA: Neural Networks for Machine Learning 4 (2012).\n",
      "\n",
      "[2] Diederik Kingma and Jimmy Ba, \"Adam: A Method for Stochastic Optimization\", ICLR 2015."
     ]
    },
    {
     "cell_type": "code",
     "collapsed": false,
     "input": [
      "# Test RMSProp implementation; you should see errors less than 1e-7\n",
      "from cs231n.optim import rmsprop\n",
      "\n",
      "N, D = 4, 5\n",
      "w = np.linspace(-0.4, 0.6, num=N*D).reshape(N, D)\n",
      "dw = np.linspace(-0.6, 0.4, num=N*D).reshape(N, D)\n",
      "cache = np.linspace(0.6, 0.9, num=N*D).reshape(N, D)\n",
      "\n",
      "config = {'learning_rate': 1e-2, 'cache': cache}\n",
      "next_w, _ = rmsprop(w, dw, config=config)\n",
      "\n",
      "expected_next_w = np.asarray([\n",
      "  [-0.39223849, -0.34037513, -0.28849239, -0.23659121, -0.18467247],\n",
      "  [-0.132737,   -0.08078555, -0.02881884,  0.02316247,  0.07515774],\n",
      "  [ 0.12716641,  0.17918792,  0.23122175,  0.28326742,  0.33532447],\n",
      "  [ 0.38739248,  0.43947102,  0.49155973,  0.54365823,  0.59576619]])\n",
      "expected_cache = np.asarray([\n",
      "  [ 0.5976,      0.6126277,   0.6277108,   0.64284931,  0.65804321],\n",
      "  [ 0.67329252,  0.68859723,  0.70395734,  0.71937285,  0.73484377],\n",
      "  [ 0.75037008,  0.7659518,   0.78158892,  0.79728144,  0.81302936],\n",
      "  [ 0.82883269,  0.84469141,  0.86060554,  0.87657507,  0.8926    ]])\n",
      "\n",
      "print 'next_w error: ', rel_error(expected_next_w, next_w)\n",
      "print 'cache error: ', rel_error(expected_cache, config['cache'])"
     ],
     "language": "python",
     "metadata": {},
     "outputs": [
      {
       "output_type": "stream",
       "stream": "stdout",
       "text": [
        " next_w error:  9.52468751104e-08\n",
        "cache error:  2.64779558072e-09\n"
       ]
      }
     ],
     "prompt_number": 29
    },
    {
     "cell_type": "code",
     "collapsed": false,
     "input": [
      "# Test Adam implementation; you should see errors around 1e-7 or less\n",
      "from cs231n.optim import adam\n",
      "\n",
      "N, D = 4, 5\n",
      "w = np.linspace(-0.4, 0.6, num=N*D).reshape(N, D)\n",
      "dw = np.linspace(-0.6, 0.4, num=N*D).reshape(N, D)\n",
      "m = np.linspace(0.6, 0.9, num=N*D).reshape(N, D)\n",
      "v = np.linspace(0.7, 0.5, num=N*D).reshape(N, D)\n",
      "\n",
      "config = {'learning_rate': 1e-2, 'm': m, 'v': v, 't': 5}\n",
      "next_w, _ = adam(w, dw, config=config)\n",
      "\n",
      "expected_next_w = np.asarray([\n",
      "  [-0.40094747, -0.34836187, -0.29577703, -0.24319299, -0.19060977],\n",
      "  [-0.1380274,  -0.08544591, -0.03286534,  0.01971428,  0.0722929],\n",
      "  [ 0.1248705,   0.17744702,  0.23002243,  0.28259667,  0.33516969],\n",
      "  [ 0.38774145,  0.44031188,  0.49288093,  0.54544852,  0.59801459]])\n",
      "expected_v = np.asarray([\n",
      "  [ 0.69966,     0.68908382,  0.67851319,  0.66794809,  0.65738853,],\n",
      "  [ 0.64683452,  0.63628604,  0.6257431,   0.61520571,  0.60467385,],\n",
      "  [ 0.59414753,  0.58362676,  0.57311152,  0.56260183,  0.55209767,],\n",
      "  [ 0.54159906,  0.53110598,  0.52061845,  0.51013645,  0.49966,   ]])\n",
      "expected_m = np.asarray([\n",
      "  [ 0.48,        0.49947368,  0.51894737,  0.53842105,  0.55789474],\n",
      "  [ 0.57736842,  0.59684211,  0.61631579,  0.63578947,  0.65526316],\n",
      "  [ 0.67473684,  0.69421053,  0.71368421,  0.73315789,  0.75263158],\n",
      "  [ 0.77210526,  0.79157895,  0.81105263,  0.83052632,  0.85      ]])\n",
      "\n",
      "print 'next_w error: ', rel_error(expected_next_w, next_w)\n",
      "print 'v error: ', rel_error(expected_v, config['v'])\n",
      "print 'm error: ', rel_error(expected_m, config['m'])"
     ],
     "language": "python",
     "metadata": {},
     "outputs": [
      {
       "output_type": "stream",
       "stream": "stdout",
       "text": [
        "next_w error:  1.13956917985e-07\n",
        "v error:  4.20831403811e-09\n",
        "m error:  4.21496319311e-09\n"
       ]
      }
     ],
     "prompt_number": 30
    },
    {
     "cell_type": "markdown",
     "metadata": {},
     "source": [
      "Once you have debugged your RMSProp and Adam implementations, run the following to train a pair of deep networks using these new update rules:"
     ]
    },
    {
     "cell_type": "code",
     "collapsed": false,
     "input": [
      "learning_rates = {'rmsprop': 1e-4, 'adam': 1e-3}\n",
      "for update_rule in ['adam', 'rmsprop']:\n",
      "  print 'running with ', update_rule\n",
      "  model = FullyConnectedNet([100, 100, 100, 100, 100], weight_scale=5e-2)\n",
      "\n",
      "  solver = Solver(model, small_data,\n",
      "                  num_epochs=5, batch_size=100,\n",
      "                  update_rule=update_rule,\n",
      "                  optim_config={\n",
      "                    'learning_rate': learning_rates[update_rule]\n",
      "                  },\n",
      "                  verbose=True)\n",
      "  solvers[update_rule] = solver\n",
      "  solver.train()\n",
      "  print\n",
      "\n",
      "plt.subplot(3, 1, 1)\n",
      "plt.title('Training loss')\n",
      "plt.xlabel('Iteration')\n",
      "\n",
      "plt.subplot(3, 1, 2)\n",
      "plt.title('Training accuracy')\n",
      "plt.xlabel('Epoch')\n",
      "\n",
      "plt.subplot(3, 1, 3)\n",
      "plt.title('Validation accuracy')\n",
      "plt.xlabel('Epoch')\n",
      "\n",
      "for update_rule, solver in solvers.iteritems():\n",
      "  plt.subplot(3, 1, 1)\n",
      "  plt.plot(solver.loss_history, 'o', label=update_rule)\n",
      "  \n",
      "  plt.subplot(3, 1, 2)\n",
      "  plt.plot(solver.train_acc_history, '-o', label=update_rule)\n",
      "\n",
      "  plt.subplot(3, 1, 3)\n",
      "  plt.plot(solver.val_acc_history, '-o', label=update_rule)\n",
      "  \n",
      "for i in [1, 2, 3]:\n",
      "  plt.subplot(3, 1, i)\n",
      "  plt.legend(loc='upper center', ncol=4)\n",
      "plt.gcf().set_size_inches(15, 15)\n",
      "plt.show()"
     ],
     "language": "python",
     "metadata": {},
     "outputs": [
      {
       "output_type": "stream",
       "stream": "stdout",
       "text": [
        "running with  adam\n",
        "(Iteration 1 / 200) loss: 2.808343\n",
        "(Epoch 0 / 5) train acc: 0.136000; val_acc: 0.124000"
       ]
      },
      {
       "output_type": "stream",
       "stream": "stdout",
       "text": [
        "\n",
        "(Iteration 11 / 200) loss: 2.106351"
       ]
      },
      {
       "output_type": "stream",
       "stream": "stdout",
       "text": [
        "\n",
        "(Iteration 21 / 200) loss: 1.944407"
       ]
      },
      {
       "output_type": "stream",
       "stream": "stdout",
       "text": [
        "\n",
        "(Iteration 31 / 200) loss: 1.861706"
       ]
      },
      {
       "output_type": "stream",
       "stream": "stdout",
       "text": [
        "\n",
        "(Epoch 1 / 5) train acc: 0.340000; val_acc: 0.314000"
       ]
      },
      {
       "output_type": "stream",
       "stream": "stdout",
       "text": [
        "\n",
        "(Iteration 41 / 200) loss: 1.846723\n",
        "(Iteration 51 / 200) loss: 1.931630"
       ]
      },
      {
       "output_type": "stream",
       "stream": "stdout",
       "text": [
        "\n",
        "(Iteration 61 / 200) loss: 1.825874"
       ]
      },
      {
       "output_type": "stream",
       "stream": "stdout",
       "text": [
        "\n",
        "(Iteration 71 / 200) loss: 1.517171"
       ]
      },
      {
       "output_type": "stream",
       "stream": "stdout",
       "text": [
        "\n",
        "(Epoch 2 / 5) train acc: 0.467000; val_acc: 0.343000"
       ]
      },
      {
       "output_type": "stream",
       "stream": "stdout",
       "text": [
        "\n",
        "(Iteration 81 / 200) loss: 1.668099\n",
        "(Iteration 91 / 200) loss: 1.517044"
       ]
      },
      {
       "output_type": "stream",
       "stream": "stdout",
       "text": [
        "\n",
        "(Iteration 101 / 200) loss: 1.294979"
       ]
      },
      {
       "output_type": "stream",
       "stream": "stdout",
       "text": [
        "\n",
        "(Iteration 111 / 200) loss: 1.547320"
       ]
      },
      {
       "output_type": "stream",
       "stream": "stdout",
       "text": [
        "\n",
        "(Epoch 3 / 5) train acc: 0.484000; val_acc: 0.339000"
       ]
      },
      {
       "output_type": "stream",
       "stream": "stdout",
       "text": [
        "\n",
        "(Iteration 121 / 200) loss: 1.355356\n",
        "(Iteration 131 / 200) loss: 1.337119"
       ]
      },
      {
       "output_type": "stream",
       "stream": "stdout",
       "text": [
        "\n",
        "(Iteration 141 / 200) loss: 1.309271"
       ]
      },
      {
       "output_type": "stream",
       "stream": "stdout",
       "text": [
        "\n",
        "(Iteration 151 / 200) loss: 1.310087"
       ]
      },
      {
       "output_type": "stream",
       "stream": "stdout",
       "text": [
        "\n",
        "(Epoch 4 / 5) train acc: 0.550000; val_acc: 0.361000"
       ]
      },
      {
       "output_type": "stream",
       "stream": "stdout",
       "text": [
        "\n",
        "(Iteration 161 / 200) loss: 1.404135\n",
        "(Iteration 171 / 200) loss: 1.451658"
       ]
      },
      {
       "output_type": "stream",
       "stream": "stdout",
       "text": [
        "\n",
        "(Iteration 181 / 200) loss: 1.295103"
       ]
      },
      {
       "output_type": "stream",
       "stream": "stdout",
       "text": [
        "\n",
        "(Iteration 191 / 200) loss: 1.163624"
       ]
      },
      {
       "output_type": "stream",
       "stream": "stdout",
       "text": [
        "\n",
        "(Epoch 5 / 5) train acc: 0.548000; val_acc: 0.381000"
       ]
      },
      {
       "output_type": "stream",
       "stream": "stdout",
       "text": [
        "\n",
        "\n",
        "running with  rmsprop\n",
        "(Iteration 1 / 200) loss: 2.467262\n",
        "(Epoch 0 / 5) train acc: 0.149000; val_acc: 0.119000"
       ]
      },
      {
       "output_type": "stream",
       "stream": "stdout",
       "text": [
        "\n",
        "(Iteration 11 / 200) loss: 1.932479"
       ]
      },
      {
       "output_type": "stream",
       "stream": "stdout",
       "text": [
        "\n",
        "(Iteration 21 / 200) loss: 1.954676"
       ]
      },
      {
       "output_type": "stream",
       "stream": "stdout",
       "text": [
        "\n",
        "(Iteration 31 / 200) loss: 1.881163"
       ]
      },
      {
       "output_type": "stream",
       "stream": "stdout",
       "text": [
        "\n",
        "(Epoch 1 / 5) train acc: 0.399000; val_acc: 0.308000"
       ]
      },
      {
       "output_type": "stream",
       "stream": "stdout",
       "text": [
        "\n",
        "(Iteration 41 / 200) loss: 1.829435\n",
        "(Iteration 51 / 200) loss: 1.870930"
       ]
      },
      {
       "output_type": "stream",
       "stream": "stdout",
       "text": [
        "\n",
        "(Iteration 61 / 200) loss: 1.612664"
       ]
      },
      {
       "output_type": "stream",
       "stream": "stdout",
       "text": [
        "\n",
        "(Iteration 71 / 200) loss: 1.732974"
       ]
      },
      {
       "output_type": "stream",
       "stream": "stdout",
       "text": [
        "\n",
        "(Epoch 2 / 5) train acc: 0.427000; val_acc: 0.339000"
       ]
      },
      {
       "output_type": "stream",
       "stream": "stdout",
       "text": [
        "\n",
        "(Iteration 81 / 200) loss: 1.572141\n",
        "(Iteration 91 / 200) loss: 1.719371"
       ]
      },
      {
       "output_type": "stream",
       "stream": "stdout",
       "text": [
        "\n",
        "(Iteration 101 / 200) loss: 1.354034"
       ]
      },
      {
       "output_type": "stream",
       "stream": "stdout",
       "text": [
        "\n",
        "(Iteration 111 / 200) loss: 1.462415"
       ]
      },
      {
       "output_type": "stream",
       "stream": "stdout",
       "text": [
        "\n",
        "(Epoch 3 / 5) train acc: 0.472000; val_acc: 0.335000"
       ]
      },
      {
       "output_type": "stream",
       "stream": "stdout",
       "text": [
        "\n",
        "(Iteration 121 / 200) loss: 1.545249\n",
        "(Iteration 131 / 200) loss: 1.510341"
       ]
      },
      {
       "output_type": "stream",
       "stream": "stdout",
       "text": [
        "\n",
        "(Iteration 141 / 200) loss: 1.542357"
       ]
      },
      {
       "output_type": "stream",
       "stream": "stdout",
       "text": [
        "\n",
        "(Iteration 151 / 200) loss: 1.352618"
       ]
      },
      {
       "output_type": "stream",
       "stream": "stdout",
       "text": [
        "\n",
        "(Epoch 4 / 5) train acc: 0.500000; val_acc: 0.337000"
       ]
      },
      {
       "output_type": "stream",
       "stream": "stdout",
       "text": [
        "\n",
        "(Iteration 161 / 200) loss: 1.347521\n",
        "(Iteration 171 / 200) loss: 1.328185"
       ]
      },
      {
       "output_type": "stream",
       "stream": "stdout",
       "text": [
        "\n",
        "(Iteration 181 / 200) loss: 1.493776"
       ]
      },
      {
       "output_type": "stream",
       "stream": "stdout",
       "text": [
        "\n",
        "(Iteration 191 / 200) loss: 1.327624"
       ]
      },
      {
       "output_type": "stream",
       "stream": "stdout",
       "text": [
        "\n",
        "(Epoch 5 / 5) train acc: 0.552000; val_acc: 0.363000"
       ]
      },
      {
       "output_type": "stream",
       "stream": "stdout",
       "text": [
        "\n",
        "\n"
       ]
      },
      {
       "metadata": {},
       "output_type": "display_data",
       "png": "[encoded data removed]",
       "text": [
        "<matplotlib.figure.Figure at 0x7fed8c126c90>"
       ]
      }
     ],
     "prompt_number": 31
    },
    {
     "cell_type": "markdown",
     "metadata": {},
     "source": [
      "# Train a good model!\n",
      "Train the best fully-connected model that you can on CIFAR-10, storing your best model in the `best_model` variable. We require you to get at least 50% accuracy on the validation set using a fully-connected net.\n",
      "\n",
      "If you are careful it should be possible to get accuracies above 55%, but we don't require it for this part and won't assign extra credit for doing so. Later in the assignment we will ask you to train the best convolutional network that you can on CIFAR-10, and we would prefer that you spend your effort working on convolutional nets rather than fully-connected nets.\n",
      "\n",
      "You might find it useful to complete the `BatchNormalization.ipynb` and `Dropout.ipynb` notebooks before completing this part, since those techniques can help you train powerful models."
     ]
    },
    {
     "cell_type": "code",
     "collapsed": false,
     "input": [
      "best_model = None\n",
      "################################################################################\n",
      "# TODO: Train the best FullyConnectedNet that you can on CIFAR-10. You might   #\n",
      "# batch normalization and dropout useful. Store your best model in the         #\n",
      "# best_model variable.                                                         #\n",
      "################################################################################\n",
      "X_val = data['X_val']\n",
      "y_val = data['y_val']\n",
      "X_test = data['X_test']\n",
      "y_test = data['y_test']\n",
      "\n",
      "learning_rate = 3.1e-4\n",
      "weight_scale = 2.5e-2#1e-5\n",
      "model = FullyConnectedNet([600, 500, 400, 300, 200, 100],\n",
      "                          weight_scale = weight_scale, dtype = np.float64, dropout = 0.25, use_batchnorm = True, reg = 1e-2)\n",
      "solver = Solver(model, data, print_every = 500, num_epochs = 30, batch_size = 100,\n",
      "                update_rule = 'adam',\n",
      "                optim_config = {'learning_rate':learning_rate,},lr_decay = 0.9)\n",
      "solver.train()\n",
      "scores = model.loss(data['X_test'])\n",
      "y_pred = np.argmax(scores, axis = 1)\n",
      "acc = np.mean(y_pred == data['y_test'])\n",
      "print 'test acc: %f' %(acc)\n",
      "best_model = model\n",
      "\n",
      "plt.subplot(2, 1, 1)\n",
      "plt.plot(solver.loss_history)\n",
      "plt.title('Loss history')\n",
      "plt.xlabel('Iteration')\n",
      "plt.ylabel('Loss')\n",
      "\n",
      "plt.subplot(2, 1, 2)\n",
      "plt.plot(solver.train_acc_history, label = 'train')\n",
      "plt.plot(solver.val_acc_history, label = 'val')\n",
      "plt.title('Classification accuracy history')\n",
      "plt.xlabel('Epoch')\n",
      "plt.ylabel('Classification accuracy')\n",
      "plt.show()\n",
      "\n",
      "#pass\n",
      "################################################################################\n",
      "#                              END OF YOUR CODE                                #\n",
      "################################################################################"
     ],
     "language": "python",
     "metadata": {
      "scrolled": false
     },
     "outputs": [
      {
       "output_type": "stream",
       "stream": "stdout",
       "text": [
        "(Iteration 1 / 14700) loss: 10.247930\n",
        "(Epoch 0 / 30) train acc: 0.127000; val_acc: 0.106000"
       ]
      },
      {
       "output_type": "stream",
       "stream": "stdout",
       "text": [
        "\n",
        "(Epoch 1 / 30) train acc: 0.413000; val_acc: 0.428000"
       ]
      },
      {
       "output_type": "stream",
       "stream": "stdout",
       "text": [
        "\n",
        "(Iteration 501 / 14700) loss: 2.468750"
       ]
      },
      {
       "output_type": "stream",
       "stream": "stdout",
       "text": [
        "\n",
        "(Epoch 2 / 30) train acc: 0.440000; val_acc: 0.457000"
       ]
      },
      {
       "output_type": "stream",
       "stream": "stdout",
       "text": [
        "\n",
        "(Iteration 1001 / 14700) loss: 2.118582"
       ]
      },
      {
       "output_type": "stream",
       "stream": "stdout",
       "text": [
        "\n",
        "(Epoch 3 / 30) train acc: 0.481000; val_acc: 0.468000"
       ]
      },
      {
       "output_type": "stream",
       "stream": "stdout",
       "text": [
        "\n",
        "(Iteration 1501 / 14700) loss: 1.751395"
       ]
      },
      {
       "output_type": "stream",
       "stream": "stdout",
       "text": [
        "\n",
        "(Epoch 4 / 30) train acc: 0.485000; val_acc: 0.477000"
       ]
      },
      {
       "output_type": "stream",
       "stream": "stdout",
       "text": [
        "\n",
        "(Iteration 2001 / 14700) loss: 1.807895"
       ]
      },
      {
       "output_type": "stream",
       "stream": "stdout",
       "text": [
        "\n",
        "(Epoch 5 / 30) train acc: 0.489000; val_acc: 0.494000"
       ]
      },
      {
       "output_type": "stream",
       "stream": "stdout",
       "text": [
        "\n",
        "(Iteration 2501 / 14700) loss: 1.724281"
       ]
      },
      {
       "output_type": "stream",
       "stream": "stdout",
       "text": [
        "\n",
        "(Epoch 6 / 30) train acc: 0.503000; val_acc: 0.482000"
       ]
      },
      {
       "output_type": "stream",
       "stream": "stdout",
       "text": [
        "\n",
        "(Iteration 3001 / 14700) loss: 1.803814"
       ]
      },
      {
       "output_type": "stream",
       "stream": "stdout",
       "text": [
        "\n",
        "(Epoch 7 / 30) train acc: 0.524000; val_acc: 0.524000"
       ]
      },
      {
       "output_type": "stream",
       "stream": "stdout",
       "text": [
        "\n",
        "(Iteration 3501 / 14700) loss: 1.747091"
       ]
      },
      {
       "output_type": "stream",
       "stream": "stdout",
       "text": [
        "\n",
        "(Epoch 8 / 30) train acc: 0.528000; val_acc: 0.521000"
       ]
      },
      {
       "output_type": "stream",
       "stream": "stdout",
       "text": [
        "\n",
        "(Iteration 4001 / 14700) loss: 1.437309"
       ]
      },
      {
       "output_type": "stream",
       "stream": "stdout",
       "text": [
        "\n",
        "(Epoch 9 / 30) train acc: 0.529000; val_acc: 0.516000"
       ]
      },
      {
       "output_type": "stream",
       "stream": "stdout",
       "text": [
        "\n",
        "(Iteration 4501 / 14700) loss: 1.822684"
       ]
      },
      {
       "output_type": "stream",
       "stream": "stdout",
       "text": [
        "\n",
        "(Epoch 10 / 30) train acc: 0.561000; val_acc: 0.525000"
       ]
      },
      {
       "output_type": "stream",
       "stream": "stdout",
       "text": [
        "\n",
        "(Iteration 5001 / 14700) loss: 1.673545"
       ]
      },
      {
       "output_type": "stream",
       "stream": "stdout",
       "text": [
        "\n",
        "(Epoch 11 / 30) train acc: 0.563000; val_acc: 0.550000"
       ]
      },
      {
       "output_type": "stream",
       "stream": "stdout",
       "text": [
        "\n",
        "(Iteration 5501 / 14700) loss: 1.818589"
       ]
      },
      {
       "output_type": "stream",
       "stream": "stdout",
       "text": [
        "\n",
        "(Epoch 12 / 30) train acc: 0.629000; val_acc: 0.535000"
       ]
      },
      {
       "output_type": "stream",
       "stream": "stdout",
       "text": [
        "\n",
        "(Iteration 6001 / 14700) loss: 1.521637"
       ]
      },
      {
       "output_type": "stream",
       "stream": "stdout",
       "text": [
        "\n",
        "(Epoch 13 / 30) train acc: 0.596000; val_acc: 0.550000"
       ]
      },
      {
       "output_type": "stream",
       "stream": "stdout",
       "text": [
        "\n",
        "(Iteration 6501 / 14700) loss: 1.519072"
       ]
      },
      {
       "output_type": "stream",
       "stream": "stdout",
       "text": [
        "\n",
        "(Epoch 14 / 30) train acc: 0.606000; val_acc: 0.564000"
       ]
      },
      {
       "output_type": "stream",
       "stream": "stdout",
       "text": [
        "\n",
        "(Iteration 7001 / 14700) loss: 1.540633"
       ]
      },
      {
       "output_type": "stream",
       "stream": "stdout",
       "text": [
        "\n",
        "(Epoch 15 / 30) train acc: 0.639000; val_acc: 0.568000"
       ]
      },
      {
       "output_type": "stream",
       "stream": "stdout",
       "text": [
        "\n",
        "(Iteration 7501 / 14700) loss: 1.672772"
       ]
      },
      {
       "output_type": "stream",
       "stream": "stdout",
       "text": [
        "\n",
        "(Epoch 16 / 30) train acc: 0.627000; val_acc: 0.561000"
       ]
      },
      {
       "output_type": "stream",
       "stream": "stdout",
       "text": [
        "\n",
        "(Iteration 8001 / 14700) loss: 1.338543"
       ]
      },
      {
       "output_type": "stream",
       "stream": "stdout",
       "text": [
        "\n",
        "(Epoch 17 / 30) train acc: 0.638000; val_acc: 0.563000"
       ]
      },
      {
       "output_type": "stream",
       "stream": "stdout",
       "text": [
        "\n",
        "(Iteration 8501 / 14700) loss: 1.377493"
       ]
      },
      {
       "output_type": "stream",
       "stream": "stdout",
       "text": [
        "\n",
        "(Epoch 18 / 30) train acc: 0.624000; val_acc: 0.554000"
       ]
      },
      {
       "output_type": "stream",
       "stream": "stdout",
       "text": [
        "\n",
        "(Iteration 9001 / 14700) loss: 1.263762"
       ]
      },
      {
       "output_type": "stream",
       "stream": "stdout",
       "text": [
        "\n",
        "(Epoch 19 / 30) train acc: 0.665000; val_acc: 0.574000"
       ]
      },
      {
       "output_type": "stream",
       "stream": "stdout",
       "text": [
        "\n",
        "(Iteration 9501 / 14700) loss: 1.340931"
       ]
      },
      {
       "output_type": "stream",
       "stream": "stdout",
       "text": [
        "\n",
        "(Epoch 20 / 30) train acc: 0.663000; val_acc: 0.571000"
       ]
      },
      {
       "output_type": "stream",
       "stream": "stdout",
       "text": [
        "\n",
        "(Iteration 10001 / 14700) loss: 1.436093"
       ]
      },
      {
       "output_type": "stream",
       "stream": "stdout",
       "text": [
        "\n",
        "(Epoch 21 / 30) train acc: 0.699000; val_acc: 0.577000"
       ]
      },
      {
       "output_type": "stream",
       "stream": "stdout",
       "text": [
        "\n",
        "(Iteration 10501 / 14700) loss: 1.295946"
       ]
      },
      {
       "output_type": "stream",
       "stream": "stdout",
       "text": [
        "\n",
        "(Epoch 22 / 30) train acc: 0.680000; val_acc: 0.587000"
       ]
      },
      {
       "output_type": "stream",
       "stream": "stdout",
       "text": [
        "\n",
        "(Iteration 11001 / 14700) loss: 1.307225"
       ]
      },
      {
       "output_type": "stream",
       "stream": "stdout",
       "text": [
        "\n",
        "(Epoch 23 / 30) train acc: 0.709000; val_acc: 0.575000"
       ]
      },
      {
       "output_type": "stream",
       "stream": "stdout",
       "text": [
        "\n",
        "(Iteration 11501 / 14700) loss: 1.086838"
       ]
      },
      {
       "output_type": "stream",
       "stream": "stdout",
       "text": [
        "\n",
        "(Epoch 24 / 30) train acc: 0.726000; val_acc: 0.572000"
       ]
      },
      {
       "output_type": "stream",
       "stream": "stdout",
       "text": [
        "\n",
        "(Iteration 12001 / 14700) loss: 1.150377"
       ]
      },
      {
       "output_type": "stream",
       "stream": "stdout",
       "text": [
        "\n",
        "(Epoch 25 / 30) train acc: 0.709000; val_acc: 0.583000"
       ]
      },
      {
       "output_type": "stream",
       "stream": "stdout",
       "text": [
        "\n",
        "(Iteration 12501 / 14700) loss: 1.012814"
       ]
      },
      {
       "output_type": "stream",
       "stream": "stdout",
       "text": [
        "\n",
        "(Epoch 26 / 30) train acc: 0.728000; val_acc: 0.586000"
       ]
      },
      {
       "output_type": "stream",
       "stream": "stdout",
       "text": [
        "\n",
        "(Iteration 13001 / 14700) loss: 1.169407"
       ]
      },
      {
       "output_type": "stream",
       "stream": "stdout",
       "text": [
        "\n",
        "(Epoch 27 / 30) train acc: 0.738000; val_acc: 0.585000"
       ]
      },
      {
       "output_type": "stream",
       "stream": "stdout",
       "text": [
        "\n",
        "(Iteration 13501 / 14700) loss: 1.195967"
       ]
      },
      {
       "output_type": "stream",
       "stream": "stdout",
       "text": [
        "\n",
        "(Epoch 28 / 30) train acc: 0.754000; val_acc: 0.587000"
       ]
      },
      {
       "output_type": "stream",
       "stream": "stdout",
       "text": [
        "\n",
        "(Iteration 14001 / 14700) loss: 0.979810"
       ]
      },
      {
       "output_type": "stream",
       "stream": "stdout",
       "text": [
        "\n",
        "(Epoch 29 / 30) train acc: 0.759000; val_acc: 0.588000"
       ]
      },
      {
       "output_type": "stream",
       "stream": "stdout",
       "text": [
        "\n",
        "(Iteration 14501 / 14700) loss: 0.993126"
       ]
      },
      {
       "output_type": "stream",
       "stream": "stdout",
       "text": [
        "\n",
        "(Epoch 30 / 30) train acc: 0.765000; val_acc: 0.592000"
       ]
      },
      {
       "output_type": "stream",
       "stream": "stdout",
       "text": [
        "\n",
        "test acc: 0.600000"
       ]
      },
      {
       "output_type": "stream",
       "stream": "stdout",
       "text": [
        "\n"
       ]
      },
      {
       "metadata": {},
       "output_type": "display_data",
       "png": "[encoded data removed]",
       "text": [
        "<matplotlib.figure.Figure at 0x7f3e0d0e8650>"
       ]
      }
     ],
     "prompt_number": 12
    },
    {
     "cell_type": "markdown",
     "metadata": {},
     "source": [
      "# Test you model\n",
      "Run your best model on the validation and test sets. You should achieve above 50% accuracy on the validation set."
     ]
    },
    {
     "cell_type": "code",
     "collapsed": false,
     "input": [
      "y_test_pred = np.argmax(best_model.loss(X_test), axis=1)\n",
      "y_val_pred = np.argmax(best_model.loss(X_val), axis=1)\n",
      "print 'Validation set accuracy: ', (y_val_pred == y_val).mean()\n",
      "print 'Test set accuracy: ', (y_test_pred == y_test).mean()"
     ],
     "language": "python",
     "metadata": {},
     "outputs": [
      {
       "output_type": "stream",
       "stream": "stdout",
       "text": [
        "Validation set accuracy:  0.601\n",
        "Test set accuracy:  0.6\n"
       ]
      }
     ],
     "prompt_number": 14
    },
    {
     "cell_type": "code",
     "collapsed": false,
     "input": [],
     "language": "python",
     "metadata": {},
     "outputs": []
    }
   ],
   "metadata": {}
  }
 ]
}